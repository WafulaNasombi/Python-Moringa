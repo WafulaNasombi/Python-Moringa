{
 "cells": [
  {
   "cell_type": "code",
   "execution_count": null,
   "metadata": {},
   "outputs": [],
   "source": [
    "#relational databases have multiple tables with defined relationships between them\n",
    "#each database has a schema that defines the structure of the database, including the tables\n",
    "# and the relationships between them\n",
    "Albums table\n",
    "AlbumId INTEGER PRIMARY KEY\n",
    "AlbumName VARCHAR(20)\n",
    "ArtistId INT\n",
    "GenreId INT\n",
    "#columns can have various data types such as INTEGER,VARCHAR() OR CHAR(),DATE\n",
    "\"\"\"\n",
    "Keys : 1. Primary Key : column that uniquely identifies each row in a table\n",
    "       2. Foreign Key: column that references the primary key of another table. Primary Key of a table is a foreign key in\n",
    "       another table\n",
    "\n",
    "\"\"\"\n",
    "##commenting in sql\n",
    "-- single line comment\n",
    "/* multi line comment */\n"
   ]
  },
  {
   "cell_type": "markdown",
   "metadata": {},
   "source": [
    "# using Pandas to read sql tables"
   ]
  },
  {
   "cell_type": "code",
   "execution_count": null,
   "metadata": {},
   "outputs": [],
   "source": [
    "import sqlite3 \n",
    "conn = sqlite3.connect('data.sqlite') #connect to the data.sqlite database\n",
    "\n",
    "#SCHEMA OF THE DATABASE\n",
    "schema_df = pd.read_sql(\"\"\"\n",
    "               SELECT *\n",
    "               FROM sqlite_master\n",
    "                        \"\"\",conn)\n",
    "\n",
    "import pandas as pd\n",
    "employees_df = pd.read_sql(\"\"\"SELECT * FROM employees;\"\"\", conn)\n",
    "employees_df.dtypes #data types of the columns\n",
    "             .info() #information about the columns\n",
    "             .describe() #summary statistics of the columns\n",
    "\n",
    "##selecting columns\n",
    "employees_df = pd.read_sql(\"\"\"SELECT lastName, firstName FROM employees;\"\"\", conn)\n",
    "employees_df.head()\n",
    "\n",
    "or\n",
    "pd.read_sql(\"\"\"SELECT lastName, firstName FROM employees;\"\"\", conn).head()\n",
    "\n",
    "##\n",
    "pd.read_sql(\"\"\"\n",
    "SELECT lastName, firstName\n",
    "  FROM employees;\n",
    "\"\"\", conn).head() # first 5 rows of the columns lastName and firstName\n",
    "\n",
    "##\n",
    "pd.read_sql(\"\"\"\n",
    "SELECT firstName AS name\n",
    "  FROM employees;\n",
    "\"\"\", conn).head() # first 5 rows of the column firstName with the alias name\n",
    "\n",
    "##\n",
    "pd.read_sql(\"\"\"\n",
    "SELECT firstName, lastName, jobTitle,\n",
    "       CASE\n",
    "       WHEN jobTitle = \"Sales Rep\" THEN \"Sales Rep\"\n",
    "       ELSE \"Not Sales Rep\"\n",
    "       END AS role\n",
    "  FROM employees;\n",
    "\"\"\", conn).head(10) # first 10 rows of the columns firstName, lastName, jobTitle and role\n",
    "\n",
    "\n",
    "#after every query \n",
    "conn.close()  #close the connection"
   ]
  },
  {
   "cell_type": "markdown",
   "metadata": {},
   "source": [
    "# Data Definition language"
   ]
  },
  {
   "cell_type": "code",
   "execution_count": null,
   "metadata": {},
   "outputs": [],
   "source": [
    "## create table\n",
    "CREATE TABLE actor ( #actor- table name\n",
    "    actor_id String(32767), #actor_id - column 1 name\n",
    "    first_name String(32767),\n",
    "    last_name String(32767),\n",
    "    last_update String(32767)\n",
    ");\n",
    "\n",
    "#alter table\n",
    "#1. add column \n",
    "ALTER TABLE actor ADD country String(32767); #country is the column name\n",
    "#2.rename column \n",
    "ALTER TABLE actor RENAME COLUMN country TO country_name; \n",
    "#3. drop column \n",
    "ALTER TABLE actor DROP COLUMN country_name;\n",
    "#4. modify the data type of a column \n",
    "ALTER TABLE actor MODIFY COLUMN actor_id INTEGER; #change the data type of actor_id to INTEGER\n",
    "\n",
    "\n",
    "#rename table\n",
    "RENAME TABLE actor TO actor_names; #rename the table name actor to actor_names\n",
    "\n",
    "#truncate table\n",
    "TRUNCATE TABLE actor_names; #delete all rows from the table actor_names\n",
    "\n",
    "#drop table\n",
    "DROP TABLE actor_names; #delete the table actor_names. The data as well as all the data in it."
   ]
  },
  {
   "cell_type": "markdown",
   "metadata": {},
   "source": [
    "# LOGICAL FLOW OF SYNTAX\n",
    "Logical Flow: SQL queries generally follow a logical flow:\n",
    "\n",
    "    SELECT: Specify which columns or expressions to retrieve.\n",
    "    FROM: Identify the tables from which to retrieve data.\n",
    "    JOIN: Link tables together based on specified conditions.\n",
    "    WHERE: Filter rows based on specific conditions.\n",
    "    GROUP BY: Group rows that have the same values into summary rows.\n",
    "    HAVING: Filter group rows after the GROUP BY clause.\n",
    "    ORDER BY: Sort the result set based on specified columns.\n",
    "    LIMIT/OFFSET: Control the number of rows returned and start point for fetching rows.\n",
    "\n",
    "    DISTINCT: returns distinct values of a column \n",
    "       you can COUNT(DISTINCT column)- to get count of each distinct value\n",
    "    "
   ]
  },
  {
   "cell_type": "markdown",
   "metadata": {},
   "source": [
    "# Data Query Language\n"
   ]
  },
  {
   "cell_type": "code",
   "execution_count": null,
   "metadata": {},
   "outputs": [],
   "source": [
    "/* using select\n",
    "SELECT * FROM actor_names; #selects all columns from the actor_names table\n",
    "\n",
    "SELECT first_name, last_name FROM actor_names; #selects all rows in only the first_name and last_name columns from the actor_names table\n",
    "\n",
    "SELECT first_name, last_name FROM actor_names WHERE first_name = 'John'; #selects all rows in the first_name and last_name columns from the actor_names table where the first_name column is 'John'\n",
    "\n",
    "SELECT * FROM actor_names WHERE first_name = 'John' AND last_name = 'Doe'; #selects all rows from the actor_names table where the first_name column is 'John' and the last_name column is 'Doe'\n",
    "\n",
    "SELECT * FROM actor_names WHERE first_name = 'John' OR last_name = 'Doe'; #selects all rows from the actor_names table where the first_name column is 'John' or the last_name column is 'Doe'\n",
    "\n",
    "SELECT * FROM actor_names WHERE first_name = 'John' OR last_name = 'Doe' ORDER BY last_name; #selects all rows from the actor_names table where the first_name column is 'John' or the last_name column is 'Doe', and orders the results by the last_name column\n",
    "\n",
    "SELECT * FROM actor_names WHERE first_name = 'John' OR last_name = 'Doe' ORDER BY last_name DESC; #selects all rows from the actor_names table where the first_name column is 'John' or the last_name column is 'Doe', and orders the results by the last_name column in descending order\n",
    "\n",
    "SELECT * FROM actor_names WHERE first_name = 'John' OR last_name = 'Doe' ORDER BY last_name DESC LIMIT 10; #selects the first 10 rows from the actor_names table where the first_name column is 'John' or the last_name column is 'Doe', and orders the results by the last_name column in descending order\n",
    "\n",
    "SELECT * FROM actor_names WHERE first_name = 'John' OR last_name = 'Doe' ORDER BY last_name DESC LIMIT 10 OFFSET 5; #selects the 6th through 15th rows from the actor_names table where the first_name column is 'John' or the last_name column is 'Doe', and orders the results by the last_name column in descending order\n",
    "\n",
    "# SELECT COUNT\n",
    "SELECT COUNT () FROM actor_names; #counts the number of rows in the actor_names table\n",
    "\n",
    "SELECT COUNT (*) FROM actor_names WHERE first_name = 'John'; #counts the number of rows in the actor_names table where the first_name column is 'John'\n",
    "\n",
    "#SELECT COUNT IN SPECIFIC COLUMNS\n",
    "SELECT COUNT (first_name) FROM actor_names; #counts the number of rows in the first_name column of the actor_names table\n",
    "\n",
    "##DISTINCT \n",
    "SELECT COUNT(DISTINCT first_name) FROM actor_names; #counts the number of unique values in the first_name column of the actor_names table\n",
    "\n",
    "SELECT DISTINCT first_name, country FROM actor_names; #selects all unique combinations of values in the first_name and country columns of the actor_names table\n",
    "\n",
    "#use aliases (AS keyword) to change the column names in our query result:\n",
    "SELECT first_name, last_name AS surname FROM actor_names; #selects the first_name and last_name columns from the actor_names table, and renames the last_name column to surname in the query result\n",
    "\n",
    "#length\n",
    "SELECT LENGTH(first_name) AS name_length FROM actor_names; #finds the length of every value in the first_name column of the actor_names table, and renames the result column to name_length\n",
    "\n",
    "#upper\n",
    "SELECT UPPER(first_name) AS upper_name FROM actor_names; #converts all values in the first_name column of the actor_names table to uppercase, and renames the result column to upper_name\n",
    "\n",
    "#substr\n",
    "SELECT SUBSTR(first_name, 1, 2) AS initials FROM actor_names; #selects the first two characters of every value in the first_name column of the actor_names table, and renames the result column to initials\n",
    " SELECT SUBSTR(first_name, 1, 1) AS initials FROM actor_names; #selects the first character of every value in the first_name column of the actor_names table, and renames the result column to initials\n",
    "\n",
    "#concat\n",
    "SELECT first_name || '' || last_name AS full_name FROM actor_names; #concatenates the first_name and last_name columns of the actor_names table, and renames the result column to full_name\n",
    "\n",
    "#group by\n",
    "SELECT first_name, COUNT(*) FROM actor_names GROUP BY first_name; #groups the rows in the actor_names table by the first_name column, and counts the number of rows in each group\n",
    "\n",
    "#having\n",
    "SELECT first_name, COUNT(*) FROM actor_names GROUP BY first_name HAVING COUNT(*) > 1; #groups the rows in the actor_names table by the first_name column, and counts the number of rows in each group, only returning groups with more than one row\n",
    "\n",
    "\n",
    "#MATH \n",
    "#1. ROUND\n",
    "SELECT round(priceEach) AS rounded_price\n",
    "  FROM orderDetails; #rounds the priceEach column of the orderDetails table to the nearest whole number\n",
    "\n",
    "  #2. CAST\n",
    "  SELECT CAST(round(priceEach) AS INTEGER) AS rounded_price_int\n",
    "  FROM orderDetails; #rounds the priceEach column of the orderDetails table to the nearest whole number, and casts the result to an integer\n",
    "\n",
    "#BASIC MATH\n",
    "SELECT priceEach * quantityOrdered AS total_price\n",
    "  FROM orderDetails;  #multiplies the priceEach and quantityOrdered columns of the orderDetails table, and renames the result column to total_price\n",
    "\n",
    "#SELECT SUM\n",
    "SELECT SUM (actor_id) FROM actor_names; #sums the values in the actor_id column of the actor_names table\n",
    "\n",
    "#SELECT AVG\n",
    "SELECT AVG (actor_id) FROM actor_names; #calculates the average of the values in the actor_id column of the actor_names table\n",
    "\n",
    "#SELECT MIN\n",
    "SELECT MIN (actor_id) FROM actor_names; #finds the smallest value in the actor_id column of the actor_names table\n",
    "\n",
    "#SELECT JULIANDAY\n",
    "SELECT julianday(requiredDate) - julianday(orderDate) AS days_from_order_to_required\n",
    "  FROM orders; #calculates the number of days between the orderDate and requiredDate columns of the orders table\n",
    "\n",
    "SELECT orderDate, date(orderDate, \"+7 days\") AS one_week_later\n",
    "  FROM orders; #Selects orderDate column and 7 days after as well\n",
    "\n",
    "#strftime - format date\n",
    "SELECT orderDate,\n",
    "       strftime(\"%m\", orderDate) AS month,\n",
    "       strftime(\"%Y\", orderDate) AS year,\n",
    "       strftime(\"%d\", orderDate) AS day\n",
    "  FROM orders;\n",
    "\n",
    "#RENAME COLUMNS\n",
    "SELECT country AS 'Airport Country', city AS 'Airport City'\n",
    "FROM airports;\n",
    "\n",
    "\n",
    "\n"
   ]
  },
  {
   "cell_type": "markdown",
   "metadata": {},
   "source": [
    "## CASE Statements \n",
    "Start with CASE \n",
    "\n",
    "END With END"
   ]
  },
  {
   "cell_type": "code",
   "execution_count": null,
   "metadata": {},
   "outputs": [],
   "source": [
    "#1. CASE statement TO BIN COLUMN VALUES - to add values to a new column based on the values in an existing column\n",
    "SELECT first_name, last_name, job_title,\n",
    "CASE \n",
    "WHEN job_title = 'Engineer' THEN 'Engineering'\n",
    "WHEN job_title = 'Analyst' THEN 'Analytics'\n",
    "ELSE 'Other'\n",
    "END AS department \n",
    "FROM employee;\n",
    "\n",
    "\n",
    "#2. TO MAKE HUMAN READABLE COLUMN VALUES\n",
    "SELECT first_name, last_name, office_id,\n",
    "CASE Office_id #to prevent repetition of the name office_id\n",
    "WHEN '1' THEN 'New York'\n",
    "WHEN '2' THEN 'San Francisco'\n",
    "WHEN '3' THEN 'Chicago'\n",
    "ELSE 'Other'\n",
    "END AS office_location\n",
    "FROM employee; #creates a new column office_location with human-readable values based on the values in the office_id column\n",
    "\n",
    "\n"
   ]
  },
  {
   "cell_type": "markdown",
   "metadata": {},
   "source": [
    "## where clause"
   ]
  },
  {
   "cell_type": "code",
   "execution_count": null,
   "metadata": {},
   "outputs": [],
   "source": [
    "#WHERE CLAUSE\n",
    "SELECT first_name AS 'First Name',\n",
    "last_name AS 'Last Name',\n",
    "\n",
    "FROM employee\n",
    "WHERE office_id = '1' AND\n",
    "'First Name' = 'John' AND\n",
    "'Last Name' = 'Doe' AND\n",
    "'Age' BETWEEN 20 AND 50 AND\n",
    "'Salary' > 50000\n",
    "\n",
    "#IS OPERATOR - to check for NULL values/not null values\n",
    "SELECT first_name, last_name, email\n",
    "FROM employee\n",
    "WHERE email IS NOT NULL; OR IS NULL #selects all rows from the employee table where the email column is NULL\n",
    "\n",
    "pd.read_sql(\"\"\"\n",
    "SELECT *, length(firstName) AS name_length \n",
    "  FROM employees\n",
    " WHERE name_length = 5;\n",
    "\"\"\", conn) #add a new column name_length to the employees table that contains the length of the firstName column,\n",
    "#and then select all rows from the employees table where the name_length column is 5\n",
    "\n",
    "pd.read_sql(\"\"\"\n",
    "SELECT *, substr(firstName, 1, 1) AS first_initial\n",
    "  FROM employees\n",
    " WHERE first_initial = \"L\";\n",
    "\"\"\", conn) #add a new column first_initial to the employees table that contains the first character of the firstName column,\n",
    "\n",
    "pd.read_sql(\"\"\"\n",
    "SELECT *, CAST(round(priceEach) AS INTEGER) AS rounded_price_int\n",
    "  FROM orderDetails\n",
    " WHERE rounded_price_int = 30;\n",
    "\"\"\", conn)#add a new column rounded_price_int to the orderDetails table that contains the rounded priceEach column as an integer,\n",
    "\n",
    "pd.read_sql(\"\"\"\n",
    "SELECT *, strftime(\"%m\", orderDate) AS month\n",
    "  FROM orders\n",
    " WHERE month = \"01\";\n",
    "\"\"\", conn) #add a new column month to the orders table that contains the month of the orderDate column,\n",
    "\n",
    "\n",
    "SELECT *\n",
    "  FROM orders\n",
    " WHERE status IN (\"Cancelled\", \"Resolved\") #selects all rows from the orders table where the status column is either \"Cancelled\" or \"Resolved\"\n",
    " ORDER BY length(comments) DESC\n",
    " LIMIT 10;\n"
   ]
  },
  {
   "cell_type": "markdown",
   "metadata": {},
   "source": [
    "## GROUP BY\n",
    "\n",
    "A GROUP BY statement sorts data by grouping it based on column(s) you specify in the query.\n",
    "Mainly used with aggregate functions  (COUNT(), MAX(), MIN(), SUM(), AVG()) to group the result-set by one or more columns."
   ]
  },
  {
   "cell_type": "code",
   "execution_count": null,
   "metadata": {},
   "outputs": [],
   "source": [
    "#group by\n",
    "SELECT first_name, COUNT(*) \n",
    "FROM employee GROUP BY first_name; #groups the rows in the employee table by the first_name column, and counts the number of rows in each group\n",
    "\n",
    "#after WHERE CLAUSE\n",
    "SELECT first_name, COUNT(*)\n",
    "    FROM employee\n",
    "     WHERE office_id = '1'\n",
    "     GROUP BY first_name; #groups the rows in the employee table by the first_name column, and counts the number of rows in each group where the office_id column is '1' or \n",
    "#group by index 1 since first_name is the second column in the SELECT statement\n",
    "\n",
    "\n",
    "SELECT\n",
    "    customerNumber,\n",
    "    COUNT(*) AS number_payments,\n",
    "    MIN(amount) AS min_purchase,\n",
    "    MAX(amount) AS max_purchase,\n",
    "    AVG(amount) AS avg_purchase,\n",
    "    SUM(amount) AS total_spent\n",
    "FROM payments\n",
    "WHERE strftime('%Y', paymentDate) = '2004'\n",
    "GROUP BY customerNumber #groups the rows in the payments table by the customerNumber column, and calculates the number of payments, minimum purchase amount, maximum purchase amount, average purchase amount, and total spent for each customer in 2004\n",
    "\n",
    ";"
   ]
  },
  {
   "cell_type": "markdown",
   "metadata": {},
   "source": [
    "## HAVING CLAUSE\n",
    " The HAVING clause works similarly to the WHERE clause, except it is used to filter data selections on conditions after the GROUP BY clause.\n",
    " Mainly used with aggregate functions"
   ]
  },
  {
   "cell_type": "code",
   "execution_count": null,
   "metadata": {},
   "outputs": [],
   "source": [
    "SELECT\n",
    "    customerNumber,\n",
    "    COUNT(*) AS number_payments,\n",
    "    MIN(amount) AS min_purchase,\n",
    "    MAX(amount) AS max_purchase,\n",
    "    AVG(amount) AS avg_purchase,\n",
    "    SUM(amount) AS total_spent\n",
    "FROM payments\n",
    "GROUP BY customerNumber\n",
    "HAVING avg_purchase > 50000\n",
    ";\n",
    "#groups the rows in the payments table by the customerNumber column, and calculates the number of payments, minimum purchase amount, maximum purchase amount, average purchase amount, and total spent for each customer, only returning customers with an average purchase amount greater than $50,000\n",
    "\n",
    "# with WHERE and HAVING\n",
    "#let's say we want to filter based on customers who have made at least 2 purchases of over 50000 each.\n",
    "SELECT\n",
    "    customerNumber,\n",
    "    COUNT(*) AS number_payments,\n",
    "    MIN(amount) AS min_purchase,\n",
    "    MAX(amount) AS max_purchase,\n",
    "    AVG(amount) AS avg_purchase,\n",
    "    SUM(amount) AS total_spent\n",
    "FROM payments\n",
    "WHERE amount > 50000\n",
    "GROUP BY customerNumber\n",
    "HAVING number_payments >= 2 #groups the rows in the payments table by the customerNumber column, and calculates the number of payments, minimum purchase amount, maximum purchase amount, average purchase amount, and total spent for each customer, \n",
    "#only returning customers who have made at least 2 purchases of over $50,000 each\n",
    "\n",
    "#ORDER BY\n",
    "SELECT\n",
    "    customerNumber,\n",
    "    COUNT(*) AS number_payments,\n",
    "    MIN(amount) AS min_purchase,\n",
    "    MAX(amount) AS max_purchase,\n",
    "    AVG(amount) AS avg_purchase,\n",
    "    SUM(amount) AS total_spent\n",
    "FROM payments\n",
    "WHERE amount > 50000\n",
    "GROUP BY customerNumber\n",
    "HAVING number_payments >= 2\n",
    "ORDER BY total_spent\n",
    "LIMIT 1"
   ]
  },
  {
   "cell_type": "markdown",
   "metadata": {},
   "source": [
    "## ORDER BY\n",
    "\n",
    "ORDER BY allows you to organize result sets alphabetically or numerically and in ascending or descending order."
   ]
  },
  {
   "cell_type": "code",
   "execution_count": null,
   "metadata": {},
   "outputs": [],
   "source": [
    "# ORDER BY\n",
    "SELECT first_name, last_name, email\n",
    "FROM employee\n",
    "ORDER BY last_name DESC,\n",
    "         first_name DESC; #selects all rows from the employee table, and orders the results by the last_name column in descending order\n",
    "\n",
    "#ORDER BY ASC\n",
    "SELECT first_name, last_name, email\n",
    "FROM employee\n",
    "ORDER BY last_name ASC,\n",
    "         first_name ASC; #selects all rows from the employee table, and orders the results by the last_name column in ascending order\n",
    "\n",
    "#AFTER WHERE CLAUSE AND GROUP BY\n",
    "SELECT first_name, COUNT(*)\n",
    "    FROM employee\n",
    "     WHERE office_id = '1'\n",
    "     GROUP BY first_name\n",
    "     ORDER BY COUNT(*) DESC; #groups the rows in the employee table by the first_name column, and counts the number of rows in each group where the office_id column is '1',"
   ]
  },
  {
   "cell_type": "markdown",
   "metadata": {},
   "source": [
    "## LIMIT"
   ]
  },
  {
   "cell_type": "code",
   "execution_count": null,
   "metadata": {},
   "outputs": [],
   "source": [
    "## LIMIT\n",
    "SELECT first_name, last_name, email\n",
    "FROM employee\n",
    "ORDER BY last_name DESC,\n",
    "         first_name DESC\n",
    "LIMIT 10; #selects the first 10 rows from the employee table, and orders the results by the last_name column in descending order"
   ]
  },
  {
   "cell_type": "markdown",
   "metadata": {},
   "source": []
  },
  {
   "cell_type": "markdown",
   "metadata": {},
   "source": [
    "## LIKE"
   ]
  },
  {
   "cell_type": "code",
   "execution_count": null,
   "metadata": {},
   "outputs": [],
   "source": [
    "## LIKE\n",
    "SELECT first_name, last_name, email\n",
    "FROM employee\n",
    "WHERE email LIKE '%@gmail.com'; #selects all rows from the employee table where the email column contains the string '@gmail.com'\n",
    "\n",
    "#TO GET THE FIRST CHARACTER OF A COLUMN\n",
    "SELECT *\n",
    "  FROM cats\n",
    " WHERE name LIKE 'M%'; #selects all rows from the cats table where the name column starts with the letter 'M'\n",
    "\n",
    "OR USING SUBSTR\n",
    "\n",
    "SELECT *\n",
    "  FROM cats\n",
    " WHERE substr(name, 1, 1) = \"M\"; \n",
    "\n",
    "#TO GET THE LAST CHARACTER OF A COLUMN\n",
    "SELECT *\n",
    "  FROM cats\n",
    " WHERE name LIKE '%y'; #selects all rows from the cats table where the name column ends with the letter 'y'\n",
    "\n",
    "OR USING SUBSTR\n",
    "\n",
    "SELECT *\n",
    "    FROM cats\n",
    "     WHERE substr(name, -1, 1) = \"y\";\n",
    "\n",
    "#TO GET THE FIRST AND LAST CHARACTER OF A COLUMN\n",
    "SELECT *\n",
    "  FROM cats\n",
    " WHERE name LIKE 'M%y'; #selects all rows from the cats table where the name column starts with the letter 'M' and ends with the letter 'y'\n",
    "\n",
    "OR USING SUBSTR\n",
    "\n",
    "SELECT *\n",
    "    FROM cats\n",
    "     WHERE substr(name, 1, 1) = \"M\" AND substr(name, -1, 1) = \"y\";\n",
    "\n",
    "# TO GET THE MIDDLE CHARACTER OF A COLUMN\n",
    "SELECT *\n",
    "  FROM cats\n",
    " WHERE name LIKE '_a%' OR '_a_'; #selects all rows from the cats table where the name column has 'a' as the second character\n",
    "\n",
    "OR USING SUBSTR\n",
    "\n",
    "SELECT *\n",
    "    FROM cats\n",
    "     WHERE substr(name, 2, 1) = \"a\";\n"
   ]
  },
  {
   "cell_type": "markdown",
   "metadata": {},
   "source": [
    "## using the REGEXP instead of LIKE"
   ]
  },
  {
   "cell_type": "code",
   "execution_count": null,
   "metadata": {},
   "outputs": [],
   "source": [
    "#1. Match beginning of string(^): Gives all the names starting with ‘sa’.Example- sam,samarth.\n",
    "SELECT name\n",
    "FROM student_tbl WHERE name REGEXP '^sa';\n",
    "\n",
    "#2. Match the end of a string($): Gives all the names ending with ‘on’.Example – norton,merton.\n",
    "SELECT name \n",
    "FROM student_tbl WHERE name REGEXP 'on$';\n",
    "\n",
    "\n",
    "#3.Match zero or one instance of the strings preceding it(?): Gives all the titles containing ‘com’.Example – comedy , romantic comedy.\n",
    "SELECT title\n",
    "FROM movies_tbl WHERE title REGEXP 'com ?'; \n",
    "\n",
    "#4.matches any of the patterns p1, p2, or p3(p1|p2|p3): Gives all the names containing ‘be’ or ‘ae’.Example – Abel, Baer.\n",
    "SELECT name\n",
    "FROM student_tbl WHERE name REGEXP 'be|ae' ;\n",
    "\n",
    "#5.Matches any character listed between the square brackets([abc]): Gives all the names containing ‘j’ or ‘z’.Example – Lorentz, Rajs.\n",
    "SELECT name\n",
    "FROM student_tbl WHERE name REGEXP '[jz]' ;\n",
    "\n",
    "#6.Matches any lower case letter between ‘a’ to ‘z’- ([a-z]) ([a-z] and (.)): Retrieve all names that contain a letter in the range of ‘b’ and ‘g’, followed by any character, followed by the letter ‘a’.Example – Tobias, sewall. Matches any single character(.)\n",
    "SELECT name\n",
    "FROM student_tbl WHERE name REGEXP '[b-g].[a]' ;\n",
    "\n",
    "#7.Matches any character not listed between the square brackets.([^abc]): Gives all the names not containing ‘j’ or ‘z’. Example – nerton, sewall.\n",
    "SELECT name\n",
    "FROM student_tbl WHERE name REGEXP '^[^jz]*$';\n",
    "\n",
    "#8. Matches the end of words[[:>:]]: Gives all the titles ending with character “ack”. Example – Black.\n",
    "SELECT title\n",
    "FROM movies_tbl WHERE REGEXP 'ack[[:>:]]'; \n",
    "\n",
    "#9. Matches the beginning of words[[:<:]]: Gives all the titles starting with character “for”. Example – Forgetting Sarah Marshal.\n",
    "SELECT title \n",
    "FROM movies_tbl WHERE title REGEXP '[[:<:]]for'; \n",
    "\n",
    "#10.Matches a character class[:class:]: i.e [:lower:]- lowercase character ,[:digit:] – digit characters etc. Gives all the titles containing alphabetic character only. Example – stranger things, Avengers.\n",
    "SELECT title \n",
    "FROM movies_tbl WHERE REGEXP '[:alpha:]' ; #Contains only alphabetic characters\n",
    "\n",
    "\n",
    "#11.Matches the beginning of all words by any character listed between the square brackets.(^[abc]): Gives all the names starting with ‘n’ or ‘s’. Example – nerton, sewall.\n",
    "SELECT name FROM student_tbl WHERE name REGEXP '^[ns]' ;\n",
    "\n",
    "SELECT DISTINCT CITY\n",
    "FROM STATION\n",
    "WHERE CITY REGEXP '^[AEIOUaeiou].*[AEIOUaeiou]$'; #selects all distinct city names from the STATION table where the city name starts with a vowel and ends with a vowel\n",
    "\n",
    "SELECT DISTINCT CITY \n",
    "FROM STATION \n",
    "WHERE CITY NOT REGEXP '^[AEIOUaeiou]'\n",
    "          OR CITY NOT REGEXP '[AEIOUaeiou]$'; #selects all distinct city names from the STATION table where the city name does not start with a vowel or does not end with a vowel"
   ]
  },
  {
   "cell_type": "markdown",
   "metadata": {},
   "source": []
  },
  {
   "cell_type": "markdown",
   "metadata": {},
   "source": [
    "# To check tables present in the database"
   ]
  },
  {
   "cell_type": "code",
   "execution_count": null,
   "metadata": {},
   "outputs": [],
   "source": [
    "#establish a connection \n",
    "conn = sqlite3.connect('data.sqlite') #connect to the data.sqlite database\n",
    "\n",
    "#establish a cursor\n",
    "mycursor = conn.cursor() #create a cursor object using the cursor() method\n",
    "\n",
    "#execute a query to get the schema of the database\n",
    "mycursor.execute(\"SELECT name FROM sqlite_master\") #execute a query using the execute() method\n",
    "\n",
    "#fetch the results of the query\n",
    "tables = mycursor.fetchall() #fetch the results of the query using the fetchall() method\n",
    "\n",
    "#loop through the results and print each table name\n",
    "for table in tables:\n",
    "    print(table[0]) #loop through the results using a for loop, and print each table name"
   ]
  },
  {
   "cell_type": "markdown",
   "metadata": {},
   "source": [
    "# USING TWO TABLES"
   ]
  },
  {
   "cell_type": "code",
   "execution_count": null,
   "metadata": {},
   "outputs": [],
   "source": [
    "SELECT cats.name, dogs.name\n",
    "  FROM cats, dogs; #selects all rows from the cats and dogs tables, and returns a cartesian product of the two tables"
   ]
  },
  {
   "cell_type": "markdown",
   "metadata": {},
   "source": [
    "# check for duplicates"
   ]
  },
  {
   "cell_type": "code",
   "execution_count": null,
   "metadata": {},
   "outputs": [],
   "source": [
    "SELECT *, COUNT(*)\n",
    "FROM cats \n",
    "GROUP BY name, breed, age, weight; #groups the rows in the cats table by the name, breed, age, and weight columns, and counts the number of rows in each group\n",
    "HAVING COUNT(*) > 1; #only returns groups with more than one row\n",
    "\n",
    "SELECT name, COUNT(*)\n",
    "FROM cats\n",
    "GROUP BY name #groups the rows in the cats table by the name column, and counts the number of rows in each group\n"
   ]
  },
  {
   "cell_type": "markdown",
   "metadata": {},
   "source": []
  },
  {
   "cell_type": "markdown",
   "metadata": {},
   "source": [
    "# INSERT INTO\n",
    " to populate my table\n",
    " "
   ]
  },
  {
   "cell_type": "code",
   "execution_count": null,
   "metadata": {},
   "outputs": [],
   "source": [
    "INSERT INTO cats (name, age, breed) \n",
    "VALUES ('Maru', 3, 'Scottish Fold'); # cats is the table name, name, age, breed are the columns in the table\n",
    "\n",
    "#INSERT BY COPYING DATA FROM ANOTHER TABLE\n",
    "INSERT INTO cats (name, age, breed)\n",
    "SELECT name, age, breed\n",
    "  FROM new_cats; #inserts rows into the cats table by copying the name, age, and breed columns from the new_cats table\n",
    "\n",
    "#COPY DATA FROM A LOCAL FILE\n",
    "INSERT INTO cats (name, age, breed)\n",
    "FROM '/path/to/file.csv'; #inserts rows into the cats table by copying the name, age, and breed columns from the file.csv file\n",
    "\n",
    "DELIMITER ',' CSV HEADER; #specifies that the file is a CSV file with a header row\n",
    "\n"
   ]
  },
  {
   "cell_type": "markdown",
   "metadata": {},
   "source": [
    "# ALTER TABLE\n"
   ]
  },
  {
   "cell_type": "code",
   "execution_count": null,
   "metadata": {},
   "outputs": [],
   "source": [
    "#1. TO ADD A COLUMN TO A TABLE\n",
    "ALTER TABLE cats ADD COLUMN notes text;\n",
    "\n",
    "#2. TO RENAME A COLUMN IN A TABLE\n",
    "ALTER TABLE cats RENAME COLUMN notes TO comments;\n",
    "\n",
    "#3. TO DROP A COLUMN FROM A TABLE\n",
    "ALTER TABLE cats DROP COLUMN comments;\n",
    "\n",
    "#4. TO MODIFY THE DATA TYPE OF A COLUMN IN A TABLE\n",
    "ALTER TABLE cats MODIFY COLUMN name TYPE VARCHAR(50);\n",
    "\n"
   ]
  },
  {
   "cell_type": "markdown",
   "metadata": {},
   "source": [
    "# UPDATE \n",
    "\n",
    "tO UPDATE ROW VALUES"
   ]
  },
  {
   "cell_type": "code",
   "execution_count": null,
   "metadata": {},
   "outputs": [],
   "source": [
    "UPDATE cats SET name = \"Hana\" WHERE name = \"Hannah\"; #updates the name column in the cats table to \"Hana\" where the name column is \"Hannah\"\n",
    "\n"
   ]
  },
  {
   "cell_type": "markdown",
   "metadata": {},
   "source": [
    "# DELETING DATA\n"
   ]
  },
  {
   "cell_type": "code",
   "execution_count": null,
   "metadata": {},
   "outputs": [],
   "source": [
    "DELETE FROM [table name] WHERE [column name] = [value];\n",
    "\n",
    "DELETE FROM cats WHERE id = 2;\n",
    "\n",
    "conn.commit() #TO COMMIT CHANGES MADE\n"
   ]
  },
  {
   "cell_type": "markdown",
   "metadata": {},
   "source": []
  },
  {
   "cell_type": "markdown",
   "metadata": {},
   "source": [
    "# IN Operator- filter based on specific list of values"
   ]
  },
  {
   "cell_type": "code",
   "execution_count": null,
   "metadata": {},
   "outputs": [],
   "source": [
    "SELECT EmployeeID, FirstName, LastName, Department\n",
    "FROM Employees\n",
    "WHERE Department IN ('HR', 'IT', 'Finance'); #selects all rows from the Employees table where the Department column is 'HR', 'IT', or 'Finance'\n",
    "\n",
    "\n",
    "##using subquery\n",
    "SELECT OrderID, OrderDate, CustomerID\n",
    "FROM Orders\n",
    "WHERE CustomerID IN (\n",
    "    SELECT CustomerID\n",
    "    FROM Customers\n",
    "    WHERE City = 'New York'\n",
    ");\n",
    "#selects all rows from the Orders table where the CustomerID column is in the result of a subquery that selects the CustomerID column from the Customers table where the City column is 'New York'"
   ]
  },
  {
   "cell_type": "markdown",
   "metadata": {},
   "source": [
    "# SQL JOIN \n",
    "\n",
    "To join tables. 1. Identify the common traits of these tables.shared columns from the two tables\n",
    "\n",
    "Automatically it is an inner join-selects records that have matching values in both tables.\n"
   ]
  },
  {
   "cell_type": "code",
   "execution_count": null,
   "metadata": {},
   "outputs": [],
   "source": [
    "SELECT\n",
    "    employees.name AS employee_name,\n",
    "    employees.pay AS employee_pay,\n",
    "    managers.name AS manager_name\n",
    "FROM employees\n",
    "JOIN managers\n",
    "    ON employees.manager_id = managers.id \n",
    "; # employees.manager_id is the foreign key in the employees table that references the id column in the managers table\n",
    "#ON tableA.column = tableB.column\n",
    "\n",
    "\"\"\"\n",
    "\temployee_name\temployee_pay\tmanager_name\n",
    "0\tBob\t                  3000.0\tSteve\n",
    "1\tKaren\t              4000.0\tSteve\n",
    "2\tPatrick            \t  4000.0\tSpongebob\n",
    "\n",
    "\"\"\"\n",
    "\n",
    "\n",
    "OR #USING - Only if the column name is the same in both tables.\n",
    "\n",
    "SELECT *\n",
    "  FROM orderdetails\n",
    "       JOIN products\n",
    "       USING(productCode)\n",
    "       LIMIT 10;  # using can be applied cause the column name productCode is the same in both tables\n",
    "\n",
    "OR #USING ALIASES OF TABLES- aliases are used to shorten table names\n",
    "\n",
    "SELECT *\n",
    "  FROM orderdetails AS od\n",
    "       JOIN products AS p\n",
    "       ON od.productCode = p.productCode\n",
    "       LIMIT 10;\n",
    "\n",
    "#inner join \n",
    "SELECT ProductID, ProductName, CategoryName\n",
    "FROM Products\n",
    "INNER JOIN Categories ON Products.CategoryID = Categories.CategoryID; #selects the ProductID, ProductName, and CategoryName columns from the Products and Categories tables, and returns only the rows where the CategoryID column in the Products table matches the CategoryID column in the Categories table\n",
    "\n",
    "#Join 3 tables\n",
    "\n",
    "SELECT Orders.OrderID, Customers.CustomerName, Shippers.ShipperName\n",
    "FROM ((Orders\n",
    "INNER JOIN Customers ON Orders.CustomerID = Customers.CustomerID)\n",
    "INNER JOIN Shippers ON Orders.ShipperID = Shippers.ShipperID);\n",
    "\n",
    "\n",
    "#multiple tables \n",
    "q=(\"\"\"\n",
    "--connect employees with customers\n",
    "SELECT e.firstName, e.lastName, p.productName\n",
    "FROM employees AS e\n",
    "JOIN customers AS c ON e.employeeNumber = c.salesrepEmployeeNumber\n",
    "JOIN orders AS o ON c.customerNumber = o.customerNumber\n",
    "JOIN orderdetails AS od ON o.orderNumber = od.orderNumber\n",
    "JOIN products AS p ON od.productCode = p.productCode\n",
    "\"\"\")\n",
    "pd.read_sql(q,conn)\n"
   ]
  },
  {
   "cell_type": "markdown",
   "metadata": {},
   "source": [
    "## LEFT JOIN\n",
    "\n",
    "returns all records from the left table (table1), and the matched records from the right table (table2). The result is NULL from the right side if there is no match."
   ]
  },
  {
   "cell_type": "code",
   "execution_count": null,
   "metadata": {},
   "outputs": [],
   "source": [
    "SELECT *\n",
    "  FROM products\n",
    "       LEFT JOIN orderdetails\n",
    "       USING(productCode);\n",
    "# will return all rows from the products table and the matching rows from the orderdetails table. If there is no match, the result is NULL in the columns from the orderdetails table.\n",
    "\n",
    "SELECT Customers.CustomerName, Orders.OrderID\n",
    "FROM Customers\n",
    "LEFT JOIN Orders\n",
    "ON Customers.CustomerID=Orders.CustomerID\n",
    "ORDER BY Customers.CustomerName;\n",
    "#Select customerName from customers table and OrderID from Orders table where the customerID in the customers table matches the customerID in the Orders table.\n",
    "\n",
    "\"\"\"\n",
    "CustomerName\t                  OrderID\n",
    "Alfreds Futterkiste \t \n",
    "Ana Trujillo Emparedados y helados \t10308 \n",
    "Antonio Moreno Taquería \t        10365 \n",
    "Around the Horn \t                10383 \n",
    "Around the Horn \t                10355 \n",
    "\"\"\""
   ]
  },
  {
   "cell_type": "markdown",
   "metadata": {},
   "source": [
    "## RIGHT JOIN\n",
    "Returns all the records from the right table(table2) and matching records on the left(table1) table"
   ]
  },
  {
   "cell_type": "code",
   "execution_count": null,
   "metadata": {},
   "outputs": [],
   "source": [
    "SELECT Orders.OrderID, Employees.LastName, Employees.FirstName\n",
    "FROM Orders\n",
    "RIGHT JOIN Employees ON Orders.EmployeeID = Employees.EmployeeID\n",
    "ORDER BY Orders.OrderID;"
   ]
  },
  {
   "cell_type": "markdown",
   "metadata": {},
   "source": [
    "## OUTER JOIN/FULL OUTER JOIN\n",
    "\n",
    "Returns all records/rows in both table1 and table 2, even null values\n"
   ]
  },
  {
   "cell_type": "code",
   "execution_count": null,
   "metadata": {},
   "outputs": [],
   "source": [
    "SELECT Customers.CustomerName, Orders.OrderID\n",
    "FROM Customers\n",
    "FULL OUTER JOIN Orders ON Customers.CustomerID=Orders.CustomerID\n",
    "ORDER BY Customers.CustomerName;"
   ]
  },
  {
   "cell_type": "markdown",
   "metadata": {},
   "source": [
    "# SQL SubQueries"
   ]
  },
  {
   "cell_type": "code",
   "execution_count": null,
   "metadata": {},
   "outputs": [],
   "source": [
    "SELECT\n",
    "    name AS employee_name,\n",
    "    pay AS employee_pay,\n",
    "    (\n",
    "        SELECT name\n",
    "        FROM managers\n",
    "        WHERE managers.id = employees.manager_id\n",
    "    ) AS manager_name\n",
    "FROM employees\n",
    "\n",
    "\"\"\"\n",
    "\temployee_name\temployee_pay\tmanager_name\n",
    "0\tBob\t                  3000.0\tSteve\n",
    "1\tKaren\t              4000.0\tSteve\n",
    "2\tPatrick\t              4000.0\tSpongebob\n",
    "\n",
    "\"\"\"\n",
    "\n",
    "# used when combining more than one table \n",
    "##SINGLE ROW\n",
    "SELECT name, (SELECT COUNT(*) FROM orders WHERE customer_id = c.id) AS order_count\n",
    "FROM customers c; #selects the name column from the customers table, and counts the number of orders for each customer in the orders table\n",
    "\n",
    "\n",
    "###USING FROM \n",
    "\n",
    "SELECT p.productName, od.total_number_of_orders\n",
    "FROM products p\n",
    "JOIN (\n",
    "    SELECT productCode, SUM(quantityOrdered) AS total_number_of_orders\n",
    "    FROM orderdetails\n",
    "    GROUP BY productCode\n",
    ") od ON p.productCode = od.productCode\n",
    "ORDER BY od.total_number_of_orders DESC;\n",
    "\n",
    "###\n",
    "SELECT p.productName, total_orders.total_number_of_orders\n",
    "FROM products p\n",
    "JOIN (\n",
    "    SELECT productCode, SUM(quantityOrdered) AS total_number_of_orders\n",
    "    FROM orderdetails\n",
    "    GROUP BY productCode\n",
    ") total_orders ON p.productCode = total_orders.productCode;\n",
    "\n",
    "##USING WHERE\n",
    "SELECT name\n",
    "FROM customers\n",
    "WHERE id IN (SELECT customer_id FROM orders WHERE order_date > '2023-01-01');\n",
    "\n",
    "#HAVING CLAUSE\n",
    "SELECT department, COUNT(*)\n",
    "FROM employees\n",
    "GROUP BY department\n",
    "HAVING COUNT(*) > (SELECT AVG(emp_count) FROM (SELECT department, COUNT(*) AS emp_count FROM employees GROUP BY department) dept_counts);"
   ]
  },
  {
   "cell_type": "markdown",
   "metadata": {},
   "source": [
    "# Normalization\n",
    "\n",
    "1. 1NF - ensure each value is unique and not empty\n",
    "2. 2NF - 1NF has to be satisfied and each column should be dependent on the \n",
    "primary key \n",
    "3. 3NF - ensure 2NF is satisfied,create new tables and establish connections \n",
    "among them "
   ]
  },
  {
   "cell_type": "markdown",
   "metadata": {},
   "source": [
    "# RELATIONSHIPS\n",
    "one-to-one: one data in one table relates to the only one data in another table it is known as one-to-one (1:1) relationship.\n",
    "eg one user can have one address and one address can belong to only one user.\n",
    "\n",
    "one-to-many:  one data in one table relates to the multiple data in another table it is known as the one-to-many (1:M) relationship.\n",
    "eg. as single customer from customers table can have multiple orders in the orders table\n",
    "\n",
    "many-to-many: multiple records in one table relate to multiple records in another table.\n",
    "in three tables customers, orders, orderhistory;\n",
    "a customer can order multiple items, an item can be ordered multiple times.\n"
   ]
  },
  {
   "cell_type": "code",
   "execution_count": null,
   "metadata": {},
   "outputs": [],
   "source": []
  },
  {
   "cell_type": "markdown",
   "metadata": {},
   "source": []
  }
 ],
 "metadata": {
  "language_info": {
   "name": "python"
  }
 },
 "nbformat": 4,
 "nbformat_minor": 2
}
