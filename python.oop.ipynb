{
 "cells": [
  {
   "cell_type": "markdown",
   "metadata": {},
   "source": [
    "# OOP- Object Oriented Programming"
   ]
  },
  {
   "cell_type": "markdown",
   "metadata": {},
   "source": [
    "## Classes AND Instances \n",
    "- Class ->a class can be thought of as the blueprint that defines how to build an instance object. INSTANTIATES AN OBJECT.\n",
    "- Object-> this is an instance of a class.Produced/ invoked from a class\n",
    "- Instance Methods ->can be thought of as an attribute of an instance object. They  are callable, meaning they execute a block of code.This may seem a bit confusing, but try to think about instance methods as functions defined in a class that are really just attributes of an instance object from that class."
   ]
  },
  {
   "cell_type": "code",
   "execution_count": 36,
   "metadata": {},
   "outputs": [
    {
     "name": "stdout",
     "output_type": "stream",
     "text": [
      "5\n"
     ]
    }
   ],
   "source": [
    "class MyClass:\n",
    "  x = 5 # class variable\n",
    "\n",
    "p1 = MyClass() # object\n",
    "print(p1.x) # access class variable\n",
    "\n",
    "\n",
    "class Person:\n",
    "  def __init__(self, name, age): #constructor. self is a reference to the current instance of the class. It is used to access variables and attributes/methods that belong to the class.\n",
    "    self.name = name\n",
    "    self.age = age"
   ]
  },
  {
   "cell_type": "markdown",
   "metadata": {},
   "source": [
    "## Class\n",
    "- A class is a blueprint or template for creating objects. \n",
    "- It defines a set of attributes and methods that the objects created from the class will have.\n",
    "- Think of a class as a prototype. For example, if you have a Car class, it might define attributes like color, make, and model, and methods like start_engine() and drive().\n",
    "\n",
    "### Attributes - variables that belong to the object.\n",
    "### Methods - functions defined inside the class that explain the behaviour of objects created from the class.\n",
    "- Methods operate on an object’s attributes and are able to modify the object’s state or perform actions.\n",
    "- Methods are defined with the def keyword inside the class and always take self as their first parameter, which refers to the object calling the method."
   ]
  },
  {
   "cell_type": "code",
   "execution_count": 37,
   "metadata": {},
   "outputs": [],
   "source": [
    "class Car:\n",
    "    def __init__(self, color, make, model): #self is a reference to the current instance of the class. Through self, you can access the attributes and methods of the instance.\n",
    "\n",
    "        self.color = color # color is object variable/attribute\n",
    "        self.make = make # make is object variable/attribute\n",
    "        self.model = model # model is object variable/attribute\n",
    "\n",
    "    def start_engine(self):\n",
    "        print(\"Engine started\")\n",
    "\n",
    "    def start_engine(self):\n",
    "        print(f\"The {self.make} engine started\")\n",
    "\n",
    "    def drive(self):\n",
    "        print(f\"The {self.color} {self.make} {self.model} is driving\")\n"
   ]
  },
  {
   "cell_type": "code",
   "execution_count": 38,
   "metadata": {},
   "outputs": [
    {
     "name": "stdout",
     "output_type": "stream",
     "text": [
      "The Toyota engine started\n",
      "The red Toyota Corolla is driving\n",
      "red\n",
      "Toyota\n",
      "Corolla\n"
     ]
    }
   ],
   "source": [
    "##calling the class and its methods\n",
    "car1 = Car(\"red\", \"Toyota\", \"Corolla\")\n",
    "car1.start_engine() # calling the method\n",
    "car1.drive() # calling the method\n",
    "\n",
    "#displaying the object attributes\n",
    "print(car1.color)\n",
    "print(car1.make)        \n",
    "print(car1.model)"
   ]
  },
  {
   "cell_type": "markdown",
   "metadata": {},
   "source": [
    "## Object \n",
    "- An object is an instance of a class.\n",
    "-  When you create an object, you are creating an instance of the class, which is a concrete representation of the blueprint defined by the class.\n",
    "Each object has its own set of attributes and can use the methods defined in the class."
   ]
  },
  {
   "cell_type": "code",
   "execution_count": 39,
   "metadata": {},
   "outputs": [],
   "source": [
    "my_car = Car(\"red\", \"Toyota\", \"Corolla\") #my_car is an instance of the Car class"
   ]
  },
  {
   "cell_type": "markdown",
   "metadata": {},
   "source": [
    "## Instance:\n",
    "\n",
    "- An instance is a specific object created from a class. The terms \"instance\" and \"object\" are often used interchangeably, though \"instance\" emphasizes that the object is a specific realization of the class.\n",
    "- Multiple instances can be created from the same class, each with its own attributes."
   ]
  },
  {
   "cell_type": "code",
   "execution_count": 40,
   "metadata": {},
   "outputs": [],
   "source": [
    "car1 = Car(\"Red\", \"Toyota\", \"Corolla\") #car1 is an instance of the Car class. Specific object of the class\n",
    "car2 = Car(\"Blue\", \"Honda\", \"Civic\")"
   ]
  },
  {
   "cell_type": "markdown",
   "metadata": {},
   "source": [
    "## Using classes with METHODS ONLY\n",
    "- without attributes"
   ]
  },
  {
   "cell_type": "code",
   "execution_count": 41,
   "metadata": {},
   "outputs": [
    {
     "name": "stdout",
     "output_type": "stream",
     "text": [
      "Hello, my name is John Doe I'll be your driver today. May I please know your name?\n",
      "Hello I'm Jane Doe. Nice to meet you John.\n",
      "Nice to meet you too. We will be driving in 60 miles per hour. Feel free to tell me to slow down or speed up.\n",
      "Sure sure. I'll let you know. Thanks\n"
     ]
    }
   ],
   "source": [
    "#classes with methods only\n",
    "class Driver:\n",
    "    def greeting(self):\n",
    "        return f\"Hello, my name is {self.fname} {self.lname} I'll be your driver today. May I please know your name?\"\n",
    "    \n",
    "    def drive(self):\n",
    "        return f\"Nice to meet you too. We will be driving in {self.miles} miles per hour. Feel free to tell me to slow down or speed up.\"\n",
    "    \n",
    "#class passenger\n",
    "class Passenger:\n",
    "    def greeting(self):\n",
    "        return f\"Hello I'm {self.fname} {self.lname}. Nice to meet you {self.driver}.\"\n",
    "    def response(self):\n",
    "        return \"Sure sure. I'll let you know. Thanks\"\n",
    "    \n",
    "#creating instances of the classes\n",
    "driver = Driver()\n",
    "driver.fname = \"John\"\n",
    "driver.lname = \"Doe\"\n",
    "driver.miles = 60\n",
    "\n",
    "passenger = Passenger()\n",
    "passenger.fname = \"Jane\"\n",
    "passenger.lname = \"Doe\"\n",
    "passenger.driver = driver.fname\n",
    "\n",
    "print(driver.greeting())\n",
    "print(passenger.greeting())\n",
    "print(driver.drive())\n",
    "print(passenger.response())"
   ]
  },
  {
   "cell_type": "markdown",
   "metadata": {},
   "source": [
    "### CONDITIONS IN METHODS"
   ]
  },
  {
   "cell_type": "code",
   "execution_count": 42,
   "metadata": {},
   "outputs": [
    {
     "name": "stdout",
     "output_type": "stream",
     "text": [
      "1.  True\n",
      "Hunger is being relieved\n",
      "2.  Yum that was delish!\n",
      "3.  False\n",
      "4.  I am not hungry, thanks!\n"
     ]
    }
   ],
   "source": [
    "#conditions in classes\n",
    "class Person:\n",
    "    #define method for hungry and not hungry \n",
    "    def eat_breakfast(self):\n",
    "        #if hungry is true\n",
    "        if(self.hungry):\n",
    "            self.relieve_hunger()\n",
    "            return 'Yum that was delish!'\n",
    "        #if hungry is false\n",
    "        else:\n",
    "            return 'I am not hungry, thanks!'\n",
    "        \n",
    "    def relieve_hunger(self):\n",
    "        #if hungry is true\n",
    "        print(\"Hunger is being relieved\")\n",
    "        self.hungry = False\n",
    "\n",
    "#instanciate the class\n",
    "gail = Person()\n",
    "gail.name = 'Gail'\n",
    "gail.hungry = True\n",
    "print('1. ', gail.hungry)\n",
    "print('2. ', gail.eat_breakfast())\n",
    "print('3. ', gail.hungry)\n",
    "print('4. ', gail.eat_breakfast())\n",
    "\n"
   ]
  },
  {
   "cell_type": "markdown",
   "metadata": {},
   "source": [
    "### VARIABLES IN METHODS"
   ]
  },
  {
   "cell_type": "code",
   "execution_count": 43,
   "metadata": {},
   "outputs": [
    {
     "name": "stdout",
     "output_type": "stream",
     "text": [
      "1.  29\n",
      "2.  Happy Birthday to the Snail (aka ME)! Can't believe I'm 30?!\n",
      "3.  30\n"
     ]
    }
   ],
   "source": [
    "class Person():\n",
    "\n",
    "    def happy_birthday(self):\n",
    "        self.age += 1\n",
    "        return f\"Happy Birthday to {self.name} (aka ME)! Can't believe I'm {self.age}?!\"\n",
    "\n",
    "#creating an instance object\n",
    "the_snail = Person()\n",
    "#setting the instance object's attributes\n",
    "the_snail.name = 'the Snail'\n",
    "the_snail.age = 29\n",
    "print('1. ', the_snail.age)\n",
    "print('2. ', the_snail.happy_birthday())\n",
    "print('3. ', the_snail.age)"
   ]
  },
  {
   "cell_type": "markdown",
   "metadata": {},
   "source": [
    "### USING _init_ to define variables/attributes of objects in a class\n",
    "- can set default values to the parameters.\n",
    "     def__init__(self,name=None, age=29):\n",
    "       self.name = name\n",
    "       self.age = age\n",
    "\n",
    "    person1 = Person()\n",
    "    print(person.name)\n",
    "    print(person.age)\n",
    "\n",
    "    * OUTPUT \n",
    "    None\n",
    "    None"
   ]
  },
  {
   "cell_type": "code",
   "execution_count": 44,
   "metadata": {},
   "outputs": [
    {
     "name": "stdout",
     "output_type": "stream",
     "text": [
      "the Snail\n",
      "29\n",
      "Happy Birthday to the Snail (aka ME)! Can't believe I'm 30?!\n"
     ]
    }
   ],
   "source": [
    "# using _init_ method\n",
    "class Person:\n",
    "    def __init__(self, name, age): # can set default values for the parameters. \n",
    "    \n",
    "        self.fname = name\n",
    "        self.age = age\n",
    "\n",
    "    def happy_birthday(self):\n",
    "        self.age += 1\n",
    "        return f\"Happy Birthday to {self.fname} (aka ME)! Can't believe I'm {self.age}?!\"\n",
    "    \n",
    "#creating an instance object\n",
    "person = Person('the Snail', 29)\n",
    "#call the method\n",
    "print(person.fname)\n",
    "print(person.age)\n",
    "print(person.happy_birthday())"
   ]
  },
  {
   "cell_type": "markdown",
   "metadata": {},
   "source": [
    "## Inheritance- \n",
    "- creating a subclass that inherits xtics from the main class or has additional xtics from the ones highlighted in the main class.\n",
    "### Polymorphism- \n",
    "- Having two classes exhibiting inheritance having the same method name but different behaviours."
   ]
  },
  {
   "cell_type": "code",
   "execution_count": 45,
   "metadata": {},
   "outputs": [
    {
     "name": "stdout",
     "output_type": "stream",
     "text": [
      "Jimmy Page\n",
      "John Paul Jones\n",
      "21\n",
      "21\n",
      "Main  Guitar\n",
      "Bass Guitar\n",
      "Tune the strings!\n",
      "Tune the strings!\n",
      "Strumming the old 6 string!\n",
      "I play the Seinfeld theme song when I practice!\n",
      "Hello, New  York!\n",
      "Hello, New  York!\n",
      "Thank you, New York! Goodnight!\n"
     ]
    }
   ],
   "source": [
    "#inheritance\n",
    "class Guitarist:\n",
    "    def __init__(self):\n",
    "        self.name = \"Jimmy Page\"\n",
    "        self.age = 21\n",
    "        self.instrument_type = \"Main  Guitar\"\n",
    "\n",
    "        #define methods \n",
    "    def tune_instrument(self):\n",
    "        print('Tune the strings!')\n",
    "        \n",
    "    def practice(self): # polymorphism\n",
    "        print('Strumming the old 6 string!')\n",
    "        \n",
    "    def perform(self):\n",
    "        print('Hello, New  York!')\n",
    "\n",
    "#subclass inheriting from main class\n",
    "class Bass_Guitarist(Guitarist): # inheriting from Guitarist class\n",
    "    def __init__(self):\n",
    "        super().__init__() #this basically means whatever is in the parent class, I want it in the child class if I don't call the attributes in the child class\n",
    "        self.name = \"John Paul Jones\"\n",
    "        self.instrument_type = \"Bass Guitar\"\n",
    "\n",
    "    #since I don't call the age attribute in the child class, it will use the age attribute from the parent class\n",
    "    #to avoid repeating calling the tune_instrument method I don't call it cause they basically do the same thing\n",
    "\n",
    "    #overriding the practice method\n",
    "    def practice(self): # polymorphism\n",
    "        print('I play the Seinfeld theme song when I practice!')\n",
    "\n",
    "    #adding a new method\n",
    "    def perform(self):\n",
    "        super().perform() #this will call the perform method from the parent class\n",
    "        print('Thank you, New York! Goodnight!')#this will add to the perform method from the parent class\n",
    "\n",
    "#creating an instance of the classes\n",
    "jimmy = Guitarist()\n",
    "bass_guitarist = Bass_Guitarist()\n",
    "\n",
    "#calling the methods\n",
    "print(jimmy.name)\n",
    "print(bass_guitarist.name)\n",
    "\n",
    "#age\n",
    "print(jimmy.age)\n",
    "print(bass_guitarist.age)\n",
    "\n",
    "#instrument type\n",
    "print(jimmy.instrument_type)\n",
    "print(bass_guitarist.instrument_type)\n",
    "\n",
    "#calling the methods\n",
    "jimmy.tune_instrument()\n",
    "bass_guitarist.tune_instrument()\n",
    "jimmy.practice()\n",
    "bass_guitarist.practice()\n",
    "jimmy.perform()\n",
    "bass_guitarist.perform()\n",
    "\n",
    "#Abstraction - the super class is 1 level of abstraction  higher than the subclass\n",
    "\n"
   ]
  },
  {
   "cell_type": "markdown",
   "metadata": {},
   "source": [
    "## Abstraction - \n",
    "- Hiding the complex details of an object and exposing only the essential features necessary for use. This is to reduce COMPLEXITY.\n",
    "* Example: Consider a Car object. You can drive the car by interacting with the steering wheel, pedals, and buttons, but you don't need to know the intricate details of how the engine works internally. The car's interface (steering wheel, pedals) abstracts the underlying complexity.\n",
    "\n",
    "### Abstract Superclass -\n",
    "- class that cannot be instantiated on its own and is meant to be a base class for other classes. \n",
    "- often contains one or more abstract methods—methods that are declared but do not have any implementation.\n",
    "- Subclasses that inherit from the abstract superclass are expected to provide concrete implementations of these abstract methods."
   ]
  },
  {
   "cell_type": "code",
   "execution_count": 46,
   "metadata": {},
   "outputs": [
    {
     "name": "stdout",
     "output_type": "stream",
     "text": [
      "John Lennon\n",
      "The Beatles\n",
      "Guitar\n",
      "Tune the strings!\n",
      "Strumming the old 6 string!\n",
      "Hello, New York!\n",
      "\n",
      "Paul McCartney\n",
      "The Beatles\n",
      "Bass Guitar\n",
      "Tune the strings!\n",
      "I play the Seinfeld theme song when I practice!\n",
      "Thank you, New York! Goodnight!\n",
      "\n",
      "Ringo Starr\n",
      "The Beatles\n",
      "Drums\n",
      "Hit the drums twice!\n",
      "I practice the drums by myself!\n",
      "Thank you, New York! Goodnight!\n",
      "\n"
     ]
    }
   ],
   "source": [
    "#using abstract superclass to create a subclasses for musicians in a band\n",
    "from abc import ABC, abstractmethod\n",
    "\n",
    "class Musician(ABC):\n",
    "    def __init__(self, name): #set the name \n",
    "        self.name = name\n",
    "        self.band = \"The Beatles\"\n",
    "\n",
    "    @abstractmethod\n",
    "    def tune_instrument(self):\n",
    "        pass\n",
    "\n",
    "    @abstractmethod\n",
    "    def practice(self):\n",
    "        pass\n",
    "\n",
    "    @abstractmethod\n",
    "    def perform(self):\n",
    "        pass\n",
    "\n",
    "    #subclasses\n",
    "class Guitarist(Musician):\n",
    "    def __init__(self, name):\n",
    "        super().__init__(name)\n",
    "        self.instrument_type = \"Guitar\"\n",
    "\n",
    "    def tune_instrument(self):\n",
    "        return 'Tune the strings!'\n",
    "\n",
    "    def practice(self):\n",
    "        return 'Strumming the old 6 string!'\n",
    "\n",
    "    def perform(self):\n",
    "        return 'Hello, New York!'\n",
    "    \n",
    "class Bass_Guitarist(Musician):\n",
    "    def __init__(self, name):\n",
    "        super().__init__(name)\n",
    "        self.instrument_type = \"Bass Guitar\"\n",
    "\n",
    "    def tune_instrument(self):\n",
    "        return 'Tune the strings!'\n",
    "\n",
    "    def practice(self):\n",
    "        return 'I play the Seinfeld theme song when I practice!'\n",
    "\n",
    "    def perform(self):\n",
    "        return 'Thank you, New York! Goodnight!'\n",
    "    \n",
    "class Drummer(Musician):\n",
    "    def __init__(self, name):\n",
    "        super().__init__(name) #this will call the __init__ method from the parent class. we specify the name attribute because it is unique to the Drummer class\n",
    "        self.instrument_type = \"Drums\"\n",
    "\n",
    "    def tune_instrument(self):\n",
    "        return 'Hit the drums twice!'\n",
    "    \n",
    "    def practice(self):\n",
    "        return 'I practice the drums by myself!'\n",
    "    \n",
    "    def perform(self):\n",
    "        return 'Thank you, New York! Goodnight!'\n",
    "    \n",
    "#creating instances of the classes\n",
    "john = Guitarist('John Lennon')\n",
    "paul = Bass_Guitarist('Paul McCartney')\n",
    "ringo = Drummer('Ringo Starr')\n",
    "\n",
    "#calling   the methods\n",
    "the_beatles = [john, paul, ringo]\n",
    "for musician in the_beatles:\n",
    "    print(musician.name)\n",
    "    print(musician.band)\n",
    "    print(musician.instrument_type)\n",
    "    print(musician.tune_instrument())\n",
    "    print(musician.practice())\n",
    "    print(musician.perform())\n",
    "    print()"
   ]
  },
  {
   "cell_type": "code",
   "execution_count": 79,
   "metadata": {},
   "outputs": [],
   "source": [
    "class Animal:\n",
    "    def __init__(self, name, weight, species):\n",
    "        self.name = name\n",
    "        self.weight = weight\n",
    "        self.species = species\n",
    "a\n",
    "    # Methods\n",
    "    def sleep(self): \n",
    "        if self.nocturnal:\n",
    "            print(f'{self.name}, the {self.species}, sleeps during the day.')\n",
    "        else:\n",
    "            print(f'{self.name}, the {self.species}, sleeps during the night.')\n",
    "\n",
    "    def eat(self):\n",
    "        if self.food_type == 'herbivore':\n",
    "            print(f\"{self.name}, the {self.species}, thinks plants are yummy!\")\n",
    "        elif self.food_type == 'carnivore':\n",
    "            self.meat = 'meat'\n",
    "            print(f\"{self.name}, the {self.species}, thinks meat is yummy!\")\n",
    "        else:\n",
    "            print(f\"{self.name}, the {self.species}, thinks both plants and meat are yummy!\")\n",
    "\n",
    "                \n",
    "        "
   ]
  },
  {
   "cell_type": "code",
   "execution_count": 75,
   "metadata": {},
   "outputs": [],
   "source": [
    "#create the subclasses\n",
    "class Elephant(Animal):\n",
    "    def __init__(self,name,weight): #we have set name and weight here because they are unique to the Elephant class\n",
    "        #use super to inherit the attributes from the parent class\n",
    "        super().__init__(name,weight,'elephant')\n",
    "        self.size = 'enormous'\n",
    "        self.food_type = 'herbivore'\n",
    "        self.nocturnal = False\n",
    "\n",
    "class Tiger(Animal):\n",
    "    #use __init__ method to set the attributes unique to the Tiger class\n",
    "    def __init__(self,name,weight):\n",
    "        #inherit the attributes from the parent class\n",
    "        super().__init__(name,weight,'tiger')\n",
    "        self.size = 'large'\n",
    "        self.food_type = 'carnivore'\n",
    "        self.nocturnal = True\n",
    "\n",
    "\n",
    "#create a function\n",
    "def add_animal_to_zoo(zoo,animal_type,name,weight):\n",
    "    #use if statements to create instances of the subclasses\n",
    "    if animal_type == 'Elephant':\n",
    "        animal = Elephant(name,weight)\n",
    "    elif animal_type == 'Tiger':\n",
    "        animal = Tiger(name,weight)\n",
    "    else:\n",
    "        animal = Animal(name,weight,'unknown')\n",
    "\n",
    "    #add the animal to the zoo\n",
    "    zoo.append(animal)\n",
    "\n",
    "    #return the zoo\n",
    "    return zoo\n",
    "\n",
    "    "
   ]
  },
  {
   "cell_type": "code",
   "execution_count": 76,
   "metadata": {},
   "outputs": [],
   "source": [
    "#now add the animals to the zoo\n",
    "#Add 3 elephants and 3 tigers\n",
    "#use a dictionary to append the animals to the zoo  \n",
    "zoo = []\n",
    "zoo = add_animal_to_zoo(zoo, 'Elephant', 'Babar', '5400 kg')\n",
    "zoo = add_animal_to_zoo(zoo, 'Elephant', 'Dumbo', '6000 kg')\n",
    "zoo = add_animal_to_zoo(zoo, 'Tiger', 'Shere Khan', '310 kg')\n",
    "zoo = add_animal_to_zoo(zoo, 'Tiger', 'Tigger', '280 kg')\n",
    "zoo = add_animal_to_zoo(zoo, 'Tiger', 'Diego', '295 kg')\n",
    "\n",
    "\n"
   ]
  },
  {
   "cell_type": "code",
   "execution_count": 78,
   "metadata": {},
   "outputs": [
    {
     "name": "stdout",
     "output_type": "stream",
     "text": [
      "Feeding the animals during the day:\n",
      "Babar, the elephant, thinks plants are yummy!\n",
      "Dumbo, the elephant, thinks plants are yummy!\n"
     ]
    }
   ],
   "source": [
    "#now write a program that feeds the correct animals the right food at the right times\n",
    "def feed_animals(zoo, time='day'):\n",
    "    for animal in zoo:\n",
    "        if (time == 'day' and not animal.nocturnal) or (time == 'Night' and animal.nocturnal):\n",
    "            animal.eat()\n",
    "#call the feed_animals function\n",
    "print(\"Feeding the animals during the day:\")\n",
    "feed_animals(zoo, time='day')"
   ]
  },
  {
   "cell_type": "markdown",
   "metadata": {},
   "source": [
    "- Supervised Learning: Regression and Classification. Mapping learning. Where you are given labeled training data, and have an idea of what the output could be.\n",
    "\n",
    "- Unsupervised learning- "
   ]
  },
  {
   "cell_type": "markdown",
   "metadata": {},
   "source": [
    "## OOP with Scikit-learn \n",
    "- Mutable and Immutable Data Types:\n",
    "   1. Mutable - data types that can be modified after they are initialized.\n",
    "    eg, appending in a list of items\n",
    "   2. Immutable - data types that can't be modified after they are initialized.\n",
    "   - eg. String . we call string methods such as .upper()\n",
    "\n",
    "   - Scikit Learn - has 4 main classes: - Are not MUTUALLY EXCLUSIVE. Cannot happen simultaneously.\n",
    "     1. Estimator- base object in sklearn.\n",
    "        - classes which can learn and estimate some parameters of the data with the fit() method.\n",
    "         - defined by having a fit method in two ways:\n",
    "            - 1. estimator = estimator.fit(data) - in transformer/unsupervised learning.Clustering and Association.\n",
    "            - 2. estimator = estimator.fit(X_train ,y_train)- used in supervised learning. Regression and Classification.\n",
    "\n",
    "    - Estimators learn the train data and make estimations using fit() or fit_transform()\n",
    "\n",
    "     2. Transformer- Estimators which can also transform data with transform() or fit_transform() methods are called Transformers.\n",
    "       new_data = transfomer.transform(data)\n",
    "       or\n",
    "       new_data = transformer.fit_transform(data) \n",
    "       - fit transform is a faster method.\n",
    "      - eg of transformer is StandardScaler\n",
    "\n",
    "     3. Predictor- estimators can also predict a value.  For example we can predict quantities with the finalized regression model by calling the predict() and score() function on the finalized model.\n",
    "        - prediction = predictor.predict(data)\n",
    "        - probability = predictor.predict_proba(data)\n",
    "        - score = model.score(data)\n",
    "\n",
    "    - Predictors make prediction of the unseen data(test data) to predict a value using predict() method.\n",
    "     4. Model - model.score\n",
    "\n",
    "     - All these classes implement the fit method. "
   ]
  },
  {
   "cell_type": "markdown",
   "metadata": {},
   "source": [
    "- These classes are based on API that abstracts most of the complexities involved.\n",
    " Data Mutability and scikit-learn Estimators\n",
    "\n",
    "    Immutable Input Data:\n",
    "        Scikit-learn estimators are designed to treat input data as immutable. \n",
    "        - This means that when you pass data to an estimator’s methods (e.g., fit, transform, predict), the original data remains unchanged. Instead, any transformations or predictions are returned as new data structures.\n",
    "        You do not need to manually check whether the data is mutable or immutable before using these classes because the estimators are implemented in a way that prevents accidental modification of the original data.\n",
    "\n",
    "    Output Data:\n",
    "        When using a Transformer, the transform() method returns a new transformed dataset.\n",
    "        When using a Predictor, the predict() method returns a new array with predictions.\n",
    "        The fit() method typically adjusts the internal state of the estimator (like learning the coefficients for a model) but does not return or modify the input data directly."
   ]
  },
  {
   "cell_type": "markdown",
   "metadata": {},
   "source": [
    "### Transfomer \n",
    "- Example: - \n",
    "1. StandardScaler - used to standardize features by removing the mean and scaling to unit variance. Simply calculating the z scores.\n",
    "2. OneHotEncoder -convert categorical values into one-hot encoded features\n",
    "3. CountVectorizer: used to convert text data into a matrix of token counts\n",
    "\n",
    "- Transformers - are mutable"
   ]
  },
  {
   "cell_type": "code",
   "execution_count": 18,
   "metadata": {},
   "outputs": [
    {
     "data": {
      "text/plain": [
       "{'with_mean': True,\n",
       " 'with_std': True,\n",
       " 'copy': True,\n",
       " 'n_features_in_': 2,\n",
       " 'n_samples_seen_': 4,\n",
       " 'mean_': array([0.5, 0.5]),\n",
       " 'var_': array([0.25, 0.25]),\n",
       " 'scale_': array([0.5, 0.5])}"
      ]
     },
     "execution_count": 18,
     "metadata": {},
     "output_type": "execute_result"
    }
   ],
   "source": [
    "#use the sklearn.preprocessing module to access the StandardScaler class\n",
    "from sklearn.preprocessing import StandardScaler\n",
    "\n",
    "#instantiate the StandardScaler class\n",
    "scaler = StandardScaler() #this will create an instance of the StandardScaler class\n",
    "\n",
    "#data\n",
    "data = [[0, 0], [0, 0], [1, 1], [1, 1]]\n",
    "\n",
    "#fit the data\n",
    "scaler.fit(data) #this will fit the data to the StandardScaler instance\n",
    "\n",
    "scaler.mean_ #this will return the mean of the data. The underscore at the end of mean is a convention in scikit-learn that indicates that the attribute was learned during the fitting process.\n",
    "# the underscore means that the attribute is not accessible until the attributes are not available until the estimator has been fit.\n",
    "scaler.var_ #this will return the variance of the data\n",
    "#transform the data\n",
    "scaler.transform(data) #this will transform the data using the StandardScaler instance\n",
    "\n",
    "#to get all the attributes of the model \n",
    "scaler.get_params() #this will return all the attributes of the model\n",
    "#or \n",
    "scaler.__dict__ #this will return all the attributes of the model\n",
    "\n",
    "# The above sklearn method is just like the linear regression model in the following example. \n",
    "#To access the LinearRegression class, we need to import it from the sklearn.linear_model module\n"
   ]
  },
  {
   "cell_type": "markdown",
   "metadata": {},
   "source": [
    "- In the above code StandardScaler is a class in Sklearn.preprocessing that allows access to methods such as fit, transform and fit_transform.\n",
    "- Using StandardScaler  means that each feature will have a mean of 0 and a standard deviation of 1 after the transformation.\n",
    "  .fit(X) = Computes the mean and standard deviation for each feature based on the input data X. \n",
    "\n",
    "  .transform(X) - Scales the input data X using the mean and standard deviation calculated in the fit method. It returns the standardized data.\n",
    "\n",
    "  .fit_transform(X) - combines both the fit and transform method.\n",
    "\n",
    "  .inverse_transform(X) - Reverses the transformation, scaling the data back to its original distribution using the previously stored mean and standard deviation."
   ]
  },
  {
   "cell_type": "code",
   "execution_count": 19,
   "metadata": {},
   "outputs": [
    {
     "data": {
      "text/plain": [
       "array([[-1., -1.],\n",
       "       [-1., -1.],\n",
       "       [ 1.,  1.],\n",
       "       [ 1.,  1.]])"
      ]
     },
     "execution_count": 19,
     "metadata": {},
     "output_type": "execute_result"
    }
   ],
   "source": [
    "scaler.transform(data)"
   ]
  },
  {
   "cell_type": "markdown",
   "metadata": {},
   "source": [
    "### Predictor \n",
    "- Estimators that use the predict method after the fit."
   ]
  },
  {
   "cell_type": "code",
   "execution_count": 94,
   "metadata": {},
   "outputs": [
    {
     "name": "stdout",
     "output_type": "stream",
     "text": [
      "{'fit_intercept': True, 'copy_X': True, 'n_jobs': None, 'positive': False, 'n_features_in_': 1, 'coef_': array([2.]), 'rank_': 1, 'singular_': array([2.23606798]), 'intercept_': 0.0}\n",
      "2.0\n",
      "0.0\n"
     ]
    }
   ],
   "source": [
    "# predictors\n",
    "from sklearn.linear_model import LinearRegression\n",
    "x = [[1], [2], [3], [4]]\n",
    "\n",
    "# target variable\n",
    "y = [2, 4, 6, 8]\n",
    "\n",
    "# assign the LinearRegression class to a variable\n",
    "model = LinearRegression()\n",
    "\n",
    "# fit the model\n",
    "model.fit(x, y)\n",
    "\n",
    "print(model.__dict__) #this will return the attributes of the model\n",
    "# get the coefficient\n",
    "print(model.coef_[0]) #this will return the coefficient of the model. The [0] is used to access the first element of the array this is because the coef_ attribute returns an array of coefficients\n",
    "print(model.intercept_) #this will return the intercept of the model\n",
    "\n"
   ]
  },
  {
   "cell_type": "markdown",
   "metadata": {},
   "source": [
    "- Linear Regression is a class in linear_ model that allows access to the fit method.\n",
    "- Methods in this class include:\n",
    "1. fit(X,y) - Trains the model by fitting a linear equation to the training data X and target values y.\n",
    "2. .predict(X) - Predicts the target values for the input data X using the trained model.\n",
    "3. .score(X,y) - Returns the coefficient of determination (R² score), which indicates the model's performance on the input data X and target values y."
   ]
  },
  {
   "cell_type": "code",
   "execution_count": null,
   "metadata": {},
   "outputs": [],
   "source": [
    "from sklearn.linear_model import LogisticRegression\n",
    "from sklearn.datasets import load_iris\n",
    "from sklearn.model_selection import train_test_split\n",
    "from sklearn.metrics import accuracy_score\n",
    "\n",
    "# Load a dataset\n",
    "data = load_iris()\n",
    "X = data.data\n",
    "y = data.target\n",
    "\n",
    "# Split the data into training and test sets\n",
    "X_train, X_test, y_train, y_test = train_test_split(X, y, test_size=0.2, random_state=42)\n",
    "\n",
    "# Create a logistic regression predictor estimator\n",
    "predictor = LogisticRegression(max_iter=200)\n",
    "\n",
    "# Fit the model to the training data\n",
    "predictor.fit(X_train, y_train)\n",
    "\n",
    "# Make predictions on the test data\n",
    "y_pred = predictor.predict(X_test)\n",
    "\n",
    "# Evaluate the accuracy of the model\n",
    "accuracy = accuracy_score(y_test, y_pred)\n",
    "print(f\"Accuracy: {accuracy:.2f}\")  # Output: Accuracy score\n",
    "\n",
    "\n",
    "# the fit model fits the LogisticRegression model to the training data.\n",
    "#after training the model, we can use the predict method to make predictions on new data."
   ]
  },
  {
   "cell_type": "markdown",
   "metadata": {},
   "source": [
    "### Model \n",
    "- Estimator that uses the score method.\n",
    "\n",
    "- In linear regression :\n",
    "    - model.score(y_pred,y)\n",
    "\n",
    "    How do you get y_pred:\n",
    "    y_pred = model.predict(X)\n",
    "\n",
    "    residuals = y - y_pred\n",
    "\n",
    "    r2_score = model.score(y_pred,y)"
   ]
  },
  {
   "cell_type": "markdown",
   "metadata": {},
   "source": [
    "- Examples of Models in scikit-learn:\n",
    "\n",
    "    1. Regression Models (predict continuous outcomes):\n",
    "        LinearRegression (in sklearn.linear_model)\n",
    "        Ridge (in sklearn.linear_model)\n",
    "        Lasso (in sklearn.linear_model)\n",
    "\n",
    "    2. Classification Models (predict categorical outcomes):\n",
    "        LogisticRegression (in sklearn.linear_model)\n",
    "        SVC (Support Vector Classifier, in sklearn.svm)\n",
    "        RandomForestClassifier (in sklearn.ensemble)\n",
    "\n",
    "    3. Clustering Models (unsupervised learning):\n",
    "        KMeans (in sklearn.cluster)\n",
    "        AgglomerativeClustering (in sklearn.cluster)\n",
    "\n",
    "    4. Dimensionality Reduction Models:\n",
    "        PCA (Principal Component Analysis, in sklearn.decomposition)\n",
    "        TruncatedSVD (in sklearn.decomposition)\n",
    "\n",
    "Key Methods for Model Estimators:\n",
    "\n",
    "    fit(X, y): Trains the model on the dataset X with labels y.\n",
    "    predict(X): Predicts the labels or values for new data X after the model has been trained.\n",
    "    score(X, y): Evaluates the model’s performance on the dataset X with true labels y."
   ]
  },
  {
   "cell_type": "markdown",
   "metadata": {},
   "source": [
    "- Difference between Abstraction and Encapsulation"
   ]
  },
  {
   "cell_type": "markdown",
   "metadata": {},
   "source": [
    "### Encapsulation \n",
    "- Bank Account, want to make sure the account balance cannot be accessed/ modified directly.\n",
    " - The withdrawal and deposit are both different methods each with its own specific rules\n",
    " - Encapsulation is about bundling data and methods and protecting the internal state of an object, allowing controlled access only through public methods."
   ]
  },
  {
   "cell_type": "code",
   "execution_count": 14,
   "metadata": {},
   "outputs": [],
   "source": [
    "#bank account \n",
    "class BankAccount:\n",
    "    #define the specific parameters of the class\n",
    "    def __init__(self,account_number, balance):\n",
    "        self.account_number = account_number #the account number is private\n",
    "        self.balance = balance               #the balance is private\n",
    "\n",
    "\n",
    "    #define the methods of the class\n",
    "    #1. deposit method with the amount parameter\n",
    "    def deposit(self,amount):\n",
    "        self.balance += amount\n",
    "        return f\"your new balance is {self.balance}\"\n",
    "    \n",
    "    #2. withdraw method with the amount parameter\n",
    "    def withdraw(self,amount):\n",
    "        if amount > self.balance:\n",
    "            return \"Insufficient funds\"\n",
    "        else:\n",
    "            self.balance -= amount\n",
    "            return f\"your new balance is {self.balance}\"\n",
    "        \n",
    "    #3. get_balance method\n",
    "    def get_balance(self):\n",
    "        return f\"Your balance is {self.balance}\"\n",
    "    \n",
    "\n",
    "    "
   ]
  },
  {
   "cell_type": "code",
   "execution_count": 15,
   "metadata": {},
   "outputs": [
    {
     "name": "stdout",
     "output_type": "stream",
     "text": [
      "your new balance is 1000\n",
      "Insufficient funds\n",
      "Your balance is 2000\n"
     ]
    }
   ],
   "source": [
    "#create the instance of the class\n",
    "account1 = BankAccount(12345, 500)\n",
    "account2 = BankAccount(67890, 1000)\n",
    "account3 = BankAccount(54321, 2000)\n",
    "\n",
    "#call the methods\n",
    "print(account1.deposit(500))\n",
    "print(account2.withdraw(2000))\n",
    "print(account3.get_balance())"
   ]
  },
  {
   "cell_type": "code",
   "execution_count": 16,
   "metadata": {},
   "outputs": [
    {
     "data": {
      "text/plain": [
       "1000"
      ]
     },
     "execution_count": 16,
     "metadata": {},
     "output_type": "execute_result"
    }
   ],
   "source": [
    "account1.balance"
   ]
  },
  {
   "cell_type": "markdown",
   "metadata": {},
   "source": [
    "- in the code above both balance and account number are private. Trying to access account1 balance directly brings an error. \n",
    "Thus both the account number and the balance are encapsulated/hidden in the class BankAccount. To protect them from being accessed directly.\n",
    "\n",
    "- But methods deposit, withdraw and balance are public methods which provide controlled access to the private attributes. Setting up the rules."
   ]
  },
  {
   "cell_type": "markdown",
   "metadata": {},
   "source": [
    "### Abstraction\n",
    "- System that processes payments using different payment options. eg Paypal, credit card, bank transfer.\n",
    "- Each payment method has its own process but the system should provide a unified interface for processing payments.\n",
    "-  Abstraction is about defining a common interface (what needs to be done) without providing the specific implementation details (how it is done). This allows for a simplified and consistent way of interacting with different objects."
   ]
  },
  {
   "cell_type": "code",
   "execution_count": 12,
   "metadata": {},
   "outputs": [],
   "source": [
    "#abstraction example of different payment methods\n",
    "from abc import ABC, abstractmethod\n",
    "\n",
    "class Payment(ABC):\n",
    "    @abstractmethod\n",
    "    def process_payment(self, amount):\n",
    "        pass\n",
    "\n",
    "class CreditCardPayment(Payment):\n",
    "    def process_payment(self, amount):\n",
    "        return f\"Processing credit card payment of {amount}\"\n",
    "\n",
    "class PayPalPayment(Payment):\n",
    "    def process_payment(self, amount):\n",
    "        return f\"Processing PayPal payment of {amount}\"\n",
    "\n",
    "class BankTransferPayment(Payment):\n",
    "    def process_payment(self, amount):\n",
    "        return f\"Processing bank transfer of {amount}\"\n",
    "    \n",
    "\n",
    "  #create a function for implementing the payment methods\n",
    "def payment_process(payment_method,amount):\n",
    "    return payment_method.process_payment(amount)\n",
    "\n"
   ]
  },
  {
   "cell_type": "code",
   "execution_count": 13,
   "metadata": {},
   "outputs": [
    {
     "name": "stdout",
     "output_type": "stream",
     "text": [
      "Processing credit card payment of 100\n",
      "Processing PayPal payment of 200\n",
      "Processing bank transfer of 300\n"
     ]
    }
   ],
   "source": [
    "#accesing the payment methods\n",
    "credit_card = CreditCardPayment()\n",
    "paypal = PayPalPayment()\n",
    "bank_transfer = BankTransferPayment()\n",
    "\n",
    "#call the function \n",
    "print(payment_process(credit_card, 100))\n",
    "print(payment_process(paypal, 200))\n",
    "print(payment_process(bank_transfer, 300))\n",
    "\n"
   ]
  },
  {
   "cell_type": "markdown",
   "metadata": {},
   "source": [
    "- The Payment class is an abstract class that defines the process_payment() method as an abstract method. This method is a blueprint that must be implemented by any subclass.\n",
    "- Subclasses like CreditCardPayment, PayPalPayment, and BankTransferPayment provide specific implementations of the process_payment() method.\n",
    "- The process_transaction() function can work with any payment method that is a subclass of Payment, without needing to know the details of how each payment is processed."
   ]
  },
  {
   "cell_type": "code",
   "execution_count": null,
   "metadata": {},
   "outputs": [],
   "source": []
  }
 ],
 "metadata": {
  "kernelspec": {
   "display_name": "chika",
   "language": "python",
   "name": "python3"
  },
  "language_info": {
   "codemirror_mode": {
    "name": "ipython",
    "version": 3
   },
   "file_extension": ".py",
   "mimetype": "text/x-python",
   "name": "python",
   "nbconvert_exporter": "python",
   "pygments_lexer": "ipython3",
   "version": "3.9.19"
  }
 },
 "nbformat": 4,
 "nbformat_minor": 2
}
