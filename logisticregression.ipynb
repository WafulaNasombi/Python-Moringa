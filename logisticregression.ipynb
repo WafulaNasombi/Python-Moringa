{
 "cells": [
  {
   "cell_type": "markdown",
   "metadata": {},
   "source": [
    "## Logistic Regression"
   ]
  },
  {
   "cell_type": "markdown",
   "metadata": {},
   "source": [
    "### Regression - predictive modelling technique.\n",
    " - estimates the relationship between the dependent(target) and independent variable(predictor)\n",
    " - Types of regression:\n",
    " 1. Linear Regression \n",
    " 2. Logistic Regression \n",
    " 3. Polynomial Regression \n",
    " "
   ]
  },
  {
   "cell_type": "markdown",
   "metadata": {},
   "source": [
    "### Logistic Regression \n",
    "- produces results in **binary format** which is used to predict the outcome of categorical dependent variable.So the outcome should be **discrete(binary)/categorical**\n",
    "- Possible outcomes:\n",
    "1. Yes Or No\n",
    "2. 0 OR 1 \n",
    "3. True OR False\n",
    "4. High OR Low\n",
    "\n",
    "- Threshold value : indicates the probability of winning(1)or losing(0) in the sigmoid curve. \n",
    "      - If value is >than threshold = output is rounded off to 1\n",
    "       - if value is < than threshold = output is rounded down to 0v"
   ]
  },
  {
   "cell_type": "markdown",
   "metadata": {},
   "source": [
    "### Difference between linear and logistic regression \n",
    "1. Linear Regression \n",
    "     - y variable is continuous variables\n",
    "     - solves linear regression problems\n",
    "     - straight line graph.\n",
    "\n",
    "\n",
    "2. Logistic Regression\n",
    "      - y variable are categorical   variables.\n",
    "      - solves classification problems.\n",
    "      - S-Curve (Sigmoid Curve)"
   ]
  },
  {
   "cell_type": "markdown",
   "metadata": {},
   "source": [
    "### Logistic Regression- Use Cases\n",
    "1. weather predictions - whether it will rain or not\n",
    "                     - snow or not.\n",
    "2. Classification problems - whether an item believes in a particular group or not. Eg if it's a bird or not.\n",
    "3. Determine illness -  identify if a patient is ill or not.\n",
    " "
   ]
  },
  {
   "cell_type": "markdown",
   "metadata": {},
   "source": [
    "## logistic regression/Classification using scikitlearn "
   ]
  },
  {
   "cell_type": "code",
   "execution_count": 2,
   "metadata": {},
   "outputs": [
    {
     "ename": "SyntaxError",
     "evalue": "EOF while scanning triple-quoted string literal (1211594486.py, line 49)",
     "output_type": "error",
     "traceback": [
      "\u001b[1;36m  Cell \u001b[1;32mIn[2], line 49\u001b[1;36m\u001b[0m\n\u001b[1;33m    \u001b[0m\n\u001b[1;37m    ^\u001b[0m\n\u001b[1;31mSyntaxError\u001b[0m\u001b[1;31m:\u001b[0m EOF while scanning triple-quoted string literal\n"
     ]
    }
   ],
   "source": [
    "#logistic regression \n",
    "import numpy as np\n",
    "import matplotlib.pyplot as plt\n",
    "%matplotlib inline\n",
    "import pandas as pd\n",
    "import seaborn as sns\n",
    "import math \n",
    "from sklearn.linear_model import LogisticRegression\n",
    "from sklearn.model_selection import train_test_split\n",
    "from sklearn.metrics import classification_report\n",
    "from sklearn.metrics import confusion_matrix\n",
    "\n",
    "\n",
    "\n",
    "#load the data\n",
    "data = pd.read_csv('data.csv')\n",
    "print(data.head())\n",
    "\n",
    "#build the model\n",
    "logreg_model = LogisticRegression(C=1e5, fit_intercept=False, solver='liblinear')\n",
    "\"\"\"\n",
    "1. C - regularization parametric. Controls the strength of regularization to prevent overfitting.\n",
    "     - C is the inverse of the regularization strength (lambda in regularization terms).\n",
    "      -  A large value of C (like 1e12) means very weak regularization, allowing the model more freedom to fit the data without penalizing large coefficients. \n",
    "      - Conversely, a smaller value of C would imply stronger regularization, which could help prevent overfitting by constraining the model coefficients.\n",
    "  - Regularization is a technique used to prevent overfitting.We are doing inverse because the smaller the value of C, the higher the regularization strength.\n",
    "  - \n",
    "2.fit_intercept is set to False. It specifies whether a constant (a.k.a. bias or intercept) should be added to the decision function. If false the model \n",
    "assumes that the data is already centered at the origin.\n",
    "3. solver - specifies the algorithm to use in the optimization problem. Optimization problem is to minimize the cost function.\n",
    "          -liblinear is used for small datasets. \n",
    "          - Other algorithms include newton-cg, sag, saga, lbfgs.\n",
    "            - lbfgs is used for large datasets.\n",
    "            - sag and saga are faster for large datasets.\n",
    "            - newton-cg is used for multiclass problems.Mulitclass problems are problems with more than two classes.\n",
    "            \n",
    "\"\"\"\n",
    "\n",
    "#split the data\n",
    "X = data[['age', 'interest']]\n",
    "y = data['success']\n",
    "X_train, X_test, y_train, y_test = train_test_split(X, y, test_size=0.3, random_state=0)\n",
    "\n",
    "#train the model\n",
    "logreg_model.fit(X_train, y_train)\n",
    "\n",
    "#make predictions\n",
    "y_train_pred = logreg_model.predict(X_train)\n",
    "y_test_pred = logreg_model.predict(X_test)\n",
    "\n",
    "#evaluate the model\n",
    "print('Training accuracy: ', logreg_model.score(X_train, y_train))\n",
    "print('Testing accuracy: ', logreg_model.score(X_test, y_test))\n",
    "\n",
    "#to get the coefficients of the model\n",
    "logreg_model.coef_\n",
    "\n",
    "#to get the intercept of the mode\n",
    "logreg_model.intercept_\n",
    "\n",
    "\n",
    "\n",
    "\n",
    " "
   ]
  },
  {
   "cell_type": "markdown",
   "metadata": {},
   "source": [
    "## logistic regression using statsmodels.api\n"
   ]
  },
  {
   "cell_type": "code",
   "execution_count": null,
   "metadata": {},
   "outputs": [],
   "source": [
    "#logistic regression using statsmodels.api \n",
    "import statsmodels.api as sm \n",
    "from sklearn.model_selection import train_test_split\n",
    "from sklearn.metrics import classification_report, confusion_matrix, accuracy_score\n",
    "\n",
    "#load the data\n",
    "data = pd.read_csv('data.csv')\n",
    "\n",
    "#split the data into training and testing data\n",
    "X_train,X_test,y_train,y_test = train_test_split(X,y, test_size =0.3, random_state= 0)\n",
    "#build the model\n",
    "logreg_model = sm.Logit(X_train,y_train).fit()\n",
    "\n",
    "#print the summary \n",
    "print(logreg_model.summary())\n",
    "\n",
    "#output of the summary \n",
    "\"\"\"\n",
    "                            Logit Regression Results\n",
    "==============================================================================\n",
    "Dep. Variable:                success   No. Observations:                  700\n",
    "Model:                          Logit   Df Residuals:                      698\n",
    "Method:                           MLE   Df Model:                            1\n",
    "Date:                Fri, 27 Nov 2020   Pseudo R-squ.:                  0.9142\n",
    "Time:                        13:02:03   Log-Likelihood:                -46.290\n",
    "converged:                       True   LL-Null:                       -529.00\n",
    "Covariance Type:            nonrobust\n",
    "==============================================================================\n",
    "                 coef    std err          z      P>|z|      [0.025      0.975]\n",
    "------------------------------------------------------------------------------\n",
    "age            0.0005      0.008      0.067      0.947      -0.015       0.016\n",
    "interest       0.4984      0.086      5.782      0.000       0.329       0.668\n",
    "==============================================================================\n",
    "\n",
    "Dep Variable: The dependent variable in the model\n",
    "Model: the type of the model- Logisitic regression\n",
    "Method: The method used to fit the model. MLE stands for Maximum Likelihood Estimation\n",
    "No of Observations : The number of data points used in the model\n",
    "DF Residuals : Number of observations - number of predictions\n",
    "DF Model: Number of predictors in the model\n",
    "\n",
    "Fit Statistics:\n",
    "Pseudo R-Squared: A measure of how well the model fits the data.The closer to 1 the better the model\n",
    "age and interest: These are the predictors of the model \n",
    "age is not statistically significant as the p-value is greater than 0.05\n",
    "interest is statistically significant as the p-value is less than 0.05\n",
    "Thus the coefficient of interest means that for every unit increase in interest, the odds of success increase by 0.4984. The higher the the coefficient the higher the odds of success/ the event\n",
    "happening.\n",
    "\n",
    "\n",
    "\"\"\""
   ]
  },
  {
   "cell_type": "markdown",
   "metadata": {},
   "source": [
    "## MLE - Maximum Likelihood Estimation\n",
    "- Method used to estimate the parameters(coefficients) of a logistic regression.\n",
    "- MLE finds the values of the coefficients that make the observed data most probable under the model.\n",
    "- The idea behind MLE is to find the parameter values that maximize the likelihood function, which represents the probability of the observed data given a set of parameters.\n",
    "\n",
    "* Likelihood Function: In logistic regression, the likelihood function is the product of probabilities of the observed outcomes, given the predictor variables and the model's coefficients.\n",
    "\n",
    "* Log-Likelihood: Because the likelihood function involves multiplying many probabilities, which can result in very small numbers, it's common to work with the log of the likelihood function. The log-likelihood is the sum of the logarithms of the individual probabilities. Maximizing the log-likelihood is equivalent to maximizing the likelihood.\n",
    "- The goal is to find the values of the coefficients β0,β1,…,βnβ0​,β1​,…,βn​ that maximize the log-likelihood function. This is typically done using numerical optimization techniques because the log-likelihood function is not linear and doesn't have a closed-form solution.\n",
    "   1. Gradient Descent - minimizing the cost function \n",
    "   2. Gradient Ascent - maximizing the log-likelihood  function.\n",
    "\n"
   ]
  },
  {
   "cell_type": "markdown",
   "metadata": {},
   "source": [
    "## **Cost Function** - measures how well a model's prediction matches the real data. Types of cost function \n",
    " 1. RSS/SSR - Residual sum of Squares - it quantifies the error between the actual and the predicted values.\n",
    "   - RSS - this is basically the error(y-ypred), then square each error and sum the squared errors.\n",
    "   - Minimizing RSS: Helps find the best-fit model parameters in linear regression. The slope and intercept.\n",
    "\n",
    "     - The goal in linear regression is to find the intercept and slope(model parameter) that minimizes the cost function\n",
    "     - Minimizing the RSS ensures that the overall prediction error is minimized, leading to the best-fitting line through the data points. Thus even why \n",
    "     OLS (Ordinary Least Squares is used)- Least Squares refer to minimizing the sum of squared residuals\n",
    "\n",
    "     - Sensitive to outliers. As the squaring of outliers greatly increases the RSS\n",
    "     - USED WHEN: -  you need a straightforward measure of total squared error, often in theoretical contexts or when comparing models with consistent data points.\n",
    "2. MSE - Mean Squared Error.\n",
    "        -  Used in most regression problems, particularly when you need a differentiable cost function for optimization, and when average error per data point is of interest.\n",
    "3. MAE - Mean Absolute Error.- It is less sensitive to outliers compared to MSE and RSS.it is the absolute value of the errors |y - y_pred|\n",
    "                    - Used when you want to preserve the units. \n",
    "                    - Used when you want a cost function that’s robust to outliers, and you prefer interpretability with the same units as the data, or when dealing with problems where the median error is more relevant."
   ]
  },
  {
   "cell_type": "code",
   "execution_count": null,
   "metadata": {},
   "outputs": [],
   "source": [
    "#use RSS to create a cost function\n",
    "def rss(m,X= X_train, y=y_train):\n",
    "    y_pred = m * X #m is the coefficient of the model. By coefficient of the model we mean the slope of the model\n",
    "    residual_sum_of_squares = np.sum((y_pred - y) ** 2)\n",
    "\n",
    "    return residual_sum_of_squares"
   ]
  },
  {
   "cell_type": "markdown",
   "metadata": {},
   "source": [
    "## Gradient Descent - Optimization algorithm. Used to minimize the Cost Function  RSS, MSE, MAE in Linear Regression\n",
    "- We use gradient descent instead of Gradient Ascent because in descent the minimum value is 0 while for ascent the maximum value is infinity thus getting to 0 is easier than getting to infinity.\n",
    "- In order to find the best model parameters.\n",
    "- How to conduct Gradient Descent:  - \n",
    "    1. Start with an initial guess for the parameters (e.g., m and b in linear regression).\n",
    "    2. Calculate the gradient (partial derivatives) of the cost function with respect to each parameter.\n",
    "    3. Adjust the parameters in the direction that reduces the cost function:\n",
    "       θnew=θold−α⋅∂J/∂θ\n",
    "      \n",
    "   Where:\n",
    "\n",
    "    θ represents the parameters (e.g., weights).\n",
    "    α is the learning rate (step size).\n",
    "    ∂J/∂θ is the gradient of the cost function\n",
    "\n",
    "    4. Repeat the gradient computation and parameter update steps until the cost function converges (i.e., changes very little between iterations) or a maximum number of iterations is reached.\n",
    "    5. When the gradient is near zero, the algorithm has found a local minimum, and the parameters are optimized.\n",
    "       "
   ]
  },
  {
   "cell_type": "code",
   "execution_count": null,
   "metadata": {},
   "outputs": [],
   "source": [
    "#calculating the cost function and gradient descent to minimize the cost function\n",
    "#1. Set the initial parameters\n",
    "m = 1\n",
    "#step size/learning rate - refers to how much the parameter will be updated/adjusted in each iteration\n",
    "alpha = 0.5 # This the rate at which the model learns. The higher the learning rate the faster the model learns but the lower the learning rate the slower the model learns\n",
    "#number of iterations - the number of times the model will cycle through the data\n",
    "iterations = 1000\n",
    "\n",
    "#initialize the iteration counter\n",
    "iteration = 0 \n",
    "\n",
    "#set a precision value to determine when to stop the model. Precision is how close the model is to the true value\n",
    "precision = 0.000001\n",
    "\n",
    "\n",
    "\n",
    "#calculate the gradient descent\n",
    "while iteration < iterations:\n",
    "    #calculate the gradient of the cost function\n",
    "    gradient = np.sum(X_train * (m*X_train - y_train))#this is the derivative of the cost function\n",
    "    #update the parameters\n",
    "    m = m - alpha * gradient\n",
    "    #calculate the cost function\n",
    "    cost = rss(m)\n",
    "    #increment the iteration counter\n",
    "    iteration += 1\n",
    "    #print the cost function\n",
    "    print('Iteration: ', iteration, 'Cost: ', cost)\n",
    "    #check if the cost function has converged\n",
    "    \n",
    "\n",
    "#output of the cost function\n",
    "\n",
    "\n"
   ]
  },
  {
   "cell_type": "markdown",
   "metadata": {},
   "source": [
    "## Gradient descent in Logistic regression \n",
    "- in logistic regression the cost function is based on MLE - Maximum likelihood Estimation. Maximizing the likelihood of observing the given data under a model.\n",
    "                \n",
    "- Cost function used here is log- loss"
   ]
  },
  {
   "cell_type": "code",
   "execution_count": null,
   "metadata": {},
   "outputs": [],
   "source": [
    "# gradient descent in logistic regression\n",
    " #1. start with initial guesses of the coefficients\n",
    "beta_1 = 1 # this is the slope of the model. from the equation y = beta_0 + beta_1 * x\n",
    "beta_0 = 1 # this is the intercept of the model\n",
    "alpha = 0.5 # this is the learning rate of the model\n",
    "iterations = 1000 # this is the number of iterations of the model\n",
    "precision = 0.000001 # this is the precision of the model\n",
    "\n",
    "#previous cost function\n",
    "previous_cost = float('inf') #setting the previous cost function to infinity. So that the model can start with a high cost function\n",
    "\n",
    "#2. set the sigmoid function. The sigmoid function is used to convert the linear model to a probability between 0 and 1. This is because the linear model can have any value between negative and positive infinity and \n",
    "#we are dealing with logistic regression.\n",
    "def sigmoid(z):\n",
    "    return 1/(1 + np.exp(-z))\n",
    "\n",
    "#3. calculate the gradient descent\n",
    "iteration = 0\n",
    "while iteration < iterations:\n",
    "    #1.calculate the linear model\n",
    "    z = beta_0 + beta_1 * X_train\n",
    "    #2. calculate the predicted values\n",
    "    y_pred = sigmoid(z)\n",
    "    #3. calculate the gradient of the cost function\n",
    "    gradient_beta_0 = np.sum(y_pred - y_train)\n",
    "    gradient_beta_1 = np.sum(X_train * (y_pred - y_train))\n",
    "\n",
    "    #4. update the parameters\n",
    "    beta_0 = beta_0 - alpha * gradient_beta_0\n",
    "    beta_1 = beta_1 - alpha * gradient_beta_1\n",
    "\n",
    "    #5. calculate the cost function. The cost function is the log likelihood function. The log likelihood function is used to measure the probability of the model given the data. if the probability is high then the model is good\n",
    "    cost = -np.sum(y_train * np.log(y_pred) + (1 - y_train) * np.log(1 - y_pred))\n",
    "\n",
    "     # Check for convergence\n",
    "     \"\"\"Since previous_cost is set to infinity, the condition if abs(previous_cost - cost) < precision will not trigger the break on the first iteration because the difference will be very large (inf minus any finite number is still inf).\n",
    "\n",
    "     Subsequent Iterations: After the first iteration, previous_cost is updated to the cost from the previous iteration, and the difference between previous_cost and the current cost is compared. \n",
    "    If the difference is smaller than the defined precision, it indicates that the algorithm is converging, and the loop can be stopped.\n",
    "     \n",
    "     \"\"\"\n",
    "    if abs(previous_cost - cost) < precision: # If the difference between the previous cost and the current cost is less than the precision, break\n",
    "        break\n",
    "    previous_cost = cost # if the difference is not less than the precision, update the previous cost to the current cost\n",
    "    iteration += 1\n",
    "\n",
    "\n",
    "\n",
    "\n",
    "    "
   ]
  },
  {
   "cell_type": "markdown",
   "metadata": {},
   "source": [
    "### classification metrics\n",
    "- Gives data such as\n",
    "1. True Positive value \n",
    "2. False Positive value - value that is not supposed to be a positive. A negative value predicted as positive.\n",
    "3. True Negative\n",
    "4. False Negative - value that is not supposed to be a negative. A positive value predicted as negative.\n",
    "\n",
    "- In a confusion matrix the diagonals represent the true positives. This is because the row and column indexes are the same.\n"
   ]
  },
  {
   "cell_type": "code",
   "execution_count": 7,
   "metadata": {},
   "outputs": [
    {
     "name": "stdout",
     "output_type": "stream",
     "text": [
      "[[4 1]\n",
      " [1 4]]\n"
     ]
    },
    {
     "data": {
      "text/plain": [
       "{'TP': 4.0, 'FP': 1.0, 'TN': 4.0, 'FN': 1.0}"
      ]
     },
     "execution_count": 7,
     "metadata": {},
     "output_type": "execute_result"
    }
   ],
   "source": [
    "#use sklearn to perform confusion matrix\n",
    "from sklearn.metrics import confusion_matrix\n",
    "import numpy as np\n",
    "\n",
    "actual_values =    [1,0,1,1,0,1,0,0,1,0]\n",
    "predicted_values = [1,0,1,0,0,1,1,0,1,0]\n",
    "\n",
    "print(confusion_matrix(actual_values, predicted_values))\n",
    "\n",
    "\n",
    "#doing confusion matrix manually using a function \n",
    "def conf_matrix(y_true,y_pred,num_classes=None):\n",
    "    #count the number of classes in the confusion matrix\n",
    "    if num_classes is None:\n",
    "        num_classes = len(np.unique(y_true))  #to get the number of unique classes in the true values\n",
    "        #or num_classes = max(max(y_true), max(y_pred)) + 1 #get the max of the y_true and y_pred, get the max of both then add 1 to get the number of classes\n",
    "\n",
    "    #initialize the confusion matrix\n",
    "    confusion_matrix = np.zeros((num_classes, num_classes))#create a matrix of zeroes with num_classes as the rows and columns\n",
    "\n",
    "    #loop through the true and predicted values\n",
    "    for true,pred in zip(y_true, y_pred):\n",
    "        #increment the confusion matrix\n",
    "        confusion_matrix[true][pred] += 1 #confusion_matrix[true][pred] is the cell in the matrix that is being incremented. \n",
    "\n",
    "    #return the confusion matrix in form of a dictionary as TP, FP, TN, FN\n",
    "    return {\n",
    "        'TP': confusion_matrix[0][0],\n",
    "        'FP': confusion_matrix[1][0],\n",
    "        'TN': confusion_matrix[1][1],\n",
    "        'FN': confusion_matrix[0][1]    }\n",
    "y_test = [1,0,1,1,0,1,0,0,1,0]\n",
    "y_pred = [1,0,1,0,0,1,1,0,1,0]\n",
    "\n",
    "conf_matrix(y_test, y_pred)"
   ]
  },
  {
   "cell_type": "code",
   "execution_count": 8,
   "metadata": {},
   "outputs": [
    {
     "data": {
      "image/png": "[encoded data removed]",
      "text/plain": [
       "<Figure size 640x480 with 2 Axes>"
      ]
     },
     "metadata": {},
     "output_type": "display_data"
    }
   ],
   "source": [
    "#using confusion matrix display to display the confusion matrix\n",
    "from sklearn.metrics import ConfusionMatrixDisplay\n",
    "import matplotlib.pyplot as plt\n",
    "\n",
    "disp = ConfusionMatrixDisplay(confusion_matrix=confusion_matrix(y_test, y_pred))\n",
    "disp.plot()\n",
    "plt.show()"
   ]
  },
  {
   "cell_type": "markdown",
   "metadata": {},
   "source": [
    "## Evaluation Metrics used in Classification \n",
    "1. Precision - measures the **ACCURACY** of positive predictions.\n",
    "    - precision = true positive / (true positive + false positive)\n",
    "          - eg precision allows us to answer the questions:\n",
    "    - out of all the times the model predicted the person has the disease, how many times did the person in question actually have the disease.\n",
    "    - A model can have a high precision score but it doesn't mean it's a high performing model because:\n",
    "        - With a total of 5000 it can predict that 4000 have the disease of which 3000are correct predictions but  give a precision score of 89% while another model can predict 5 to have the disease out of the 5000 of which all the 5 are correct predictions and give a 100% precision \n",
    "2. Recall - measures **COMPLETENESS** of the positive predictions. What percentage of classes we were interested in are actually captured.\n",
    "         recall = true positive / (true positive + false negative)\n",
    "    - Out of all the patients we saw that actually had the disease, what percentage of them did our model correctly identify as having the disease?\"\n",
    "    - Precision and recall have an inverse relationship. As precision goes up recall goes down and vice versa.\n",
    "\n",
    "\n",
    "## Describing the performance of the model\n",
    "1. Accuracy - out of all the predictions(whether true positives and true negatives), what percentage is correct.\n",
    "    -  Accuracy = (true positive + true negative) /total observations\n",
    "2. F1 score/ Harmonic mean of both Precision and Recall - if both the precision and recall are high even the F1 score will be high. If the F1 score is \n",
    "   high then your model is doing well around.\n",
    "   - F1 score = 2( (precision * recall)/ (precision + recall) )\n",
    "\n",
    "\n",
    "\n"
   ]
  },
  {
   "cell_type": "markdown",
   "metadata": {},
   "source": [
    "- using sklearn.metrics import classification_report() it will give you the precision, recall, F1 score and support(number of occurrences of each label in y_true) for the results of a model."
   ]
  },
  {
   "cell_type": "code",
   "execution_count": null,
   "metadata": {},
   "outputs": [],
   "source": [
    "from sklearn.metrics import classification_report\n",
    "\n",
    "print(classification_report(y_test, y_pred))"
   ]
  },
  {
   "cell_type": "markdown",
   "metadata": {},
   "source": [
    "### ROC AND AUC\n",
    "- ROC : Receiver Operating Characteristic Curves- ROC graphs allow us to determine optimal precision-recall tradeoff balances specific to the problem you are looking to solve.\n",
    "- AUC : Area under the curve - are an alternative to confusion matrices\n"
   ]
  },
  {
   "cell_type": "markdown",
   "metadata": {},
   "source": [
    "### ROC Curves\n",
    "- illustrates the true positive rate against the false positive rate.\n",
    "- TPR = RECALL = TP/ (TP + FN)\n",
    "- FPR = FP/ (FP + TN)\n",
    "\n",
    "- When training a classifier, the best performing models will have an ROC curve that hugs the upper left corner of the graph. \n",
    "- A classifier with 50-50 accuracy is deemed 'worthless'; this is no better than random guessing, as in the case of a coin flip( LINEAR LINE)\n",
    "- Models with poor ROC might have large overlaps in the probability estimates for the two classes. This would indicate that the algorithm performed poorly and had difficulty separating the two classes from each other.\n",
    "- \n",
    "\n"
   ]
  },
  {
   "cell_type": "markdown",
   "metadata": {},
   "source": [
    "- The ROC curve is plotted with the False Positive Rate (FPR) on the x-axis and the True Positive Rate (TPR) on the y-axis. The curve shows the trade-off between sensitivity (true positive rate) and specificity (1 - false positive rate) across different thresholds."
   ]
  },
  {
   "cell_type": "markdown",
   "metadata": {},
   "source": [
    "### AUC\n",
    "-  An AUC of 1 being a perfect classifier, and an AUC of 0.5 being that which has a precision of 50%."
   ]
  },
  {
   "cell_type": "markdown",
   "metadata": {},
   "source": [
    "- AUC is the area under the ROC curve. It quantifies the overall ability of the model to discriminate between the positive and negative classes. The AUC value ranges from 0 to 1, where:\n",
    "\n",
    "    AUC = 1: Perfect classifier\n",
    "    AUC = 0.5: Classifier with no discrimination ability (equivalent to random guessing)\n",
    "    AUC < 0.5: Worse than random guessing (rarely seen in practice, typically due to model or data issues)"
   ]
  },
  {
   "cell_type": "markdown",
   "metadata": {},
   "source": [
    "- While normalizing data is not strictly necessary for logistic regression, it is a good practice, especially when features have different scales or units. MinMax scaling is one of the ways to normalize data, but you could also use standardization or other methods depending on your needs."
   ]
  },
  {
   "cell_type": "markdown",
   "metadata": {},
   "source": []
  },
  {
   "cell_type": "code",
   "execution_count": 1,
   "metadata": {},
   "outputs": [
    {
     "name": "stderr",
     "output_type": "stream",
     "text": [
      "\n",
      "KeyboardInterrupt\n",
      "\n"
     ]
    }
   ],
   "source": [
    "#graph the ROC curve\n",
    "from sklearn.metrics import roc_curve,auc\n",
    "from sklearn.linear_model import LogisticRegression\n",
    "from sklearn.model_selection import train_test_split\n",
    "import pandas as pd\n",
    "\n",
    "# Load the data\n",
    "df = pd.read_csv('heart.csv')\n",
    "\n",
    "# Define appropriate X and y\n",
    "y = df['target']\n",
    "X = df.drop(columns='target', axis=1)\n",
    "\n",
    "# Normalize the Data\n",
    "X = X.apply(lambda x : (x - x.min()) /(x.max() - x.min()),axis=0)\n",
    "\n",
    "# Split the data into train and test sets.\n",
    "X_train, X_test, y_train, y_test = train_test_split(X, y, random_state=0, stratify=y) # stratify=y ensures that both the y_train and y_test have the same proportion\n",
    "\n",
    "# Fit a model\n",
    "logreg = LogisticRegression(fit_intercept=False, C=1e12, solver='liblinear')\n",
    "logreg.fit(X_train, y_train)\n",
    "print(logreg) # Preview model params\n",
    "\n",
    "# Predict\n",
    "y_hat_test = logreg.predict(X_test)\n",
    "\n",
    "# Data preview\n",
    "print(\"\")\n",
    "df.head()\n",
    "\n",
    "# Get the predicted probabilities - this is the probability of the model predicting 1 from X_test\n",
    "y_score = logreg.fit(X_train, y_train).decision_function(X_test)\n",
    "\n",
    "# False Positive Rate, True Positive Rate, thresholds\n",
    "fpr, tpr, thresholds = roc_curve(y_test, y_score)\n",
    "\n",
    "# Area Under the Curve\n",
    "roc_auc = auc(fpr, tpr)\n",
    "\n",
    "# Plotting\n",
    "plt.figure()\n",
    "lw = 2 # Line width\n",
    "plt.plot(fpr, tpr, color='darkorange', lw = lw, label = 'ROC curve (area = %0.2f)' % roc_auc)\n",
    "plt.plot([0, 1], [0, 1], color = 'navy', lw = lw, linestyle = '--') # Chance line\n",
    "plt.xlim([0.0, 1.0]) # x-axis limits\n",
    "plt.ylim([0.0, 1.05]) # y-axis limits\n",
    "plt.xlabel('False Positive Rate')\n",
    "plt.ylabel('True Positive Rate')\n",
    "plt.title('Receiver operating characteristic example')\n",
    "plt.legend(loc = \"lower right\") #legend is the box that shows the labels of the graph\n",
    "plt.show()"
   ]
  },
  {
   "cell_type": "markdown",
   "metadata": {},
   "source": [
    "- In this lesson, we investigated another evaluation metric for classification algorithms (including logistic regression). Namely, the Receiver Operating Characteristic curve (ROC) which graphs the False Positive Rate against the True Positive Rate. The overall accuracy of a classifier can thus be quantified by the AUC, the Area Under the Curve. Perfect classifiers would have an AUC score of 1.0 while an AUC of 0.5 is deemed trivial or worthless. Next, you're going to get more practice graphing the ROC and AUC curves and making interpretations based on them."
   ]
  },
  {
   "cell_type": "markdown",
   "metadata": {},
   "source": [
    "### class imbalance\n",
    "- 1. Biased Predictions :  For example, if 95% of the data belongs to Class A and 5% belongs to Class B, a model could achieve 95% accuracy simply by predicting Class A all the time, completely ignoring Class B.\n",
    "\n",
    "2. oor Generalization: The model tends to learn patterns only for the majority class and fails to generalize well for the minority class. This means that the model's performance is not balanced across all classes.\n",
    "\n",
    "3. Misleading Metrics: Accuracy can be a misleading metric in imbalanced datasets, as it does not account for the number of false negatives or false positives. Metrics like precision, recall, and the F1-score provide a better picture in such cases."
   ]
  },
  {
   "cell_type": "markdown",
   "metadata": {},
   "source": [
    "### TO ADDRESS class imbalance \n",
    "1. Use class weights in logistic Regression\n",
    "- This involves assigning a higher weight to the minority class, effectively telling the model that misclassifying the minority class is more costly than misclassifying the majority class.\n",
    "\n",
    "- how class weights work? \n",
    "  - Balanced Weights: The weight for each class can be inversely proportional to its frequency in the dataset. This can be done automatically in scikit-learn by setting class_weight='balanced'. This approach adjusts the weights inversely proportional to the class frequencies in the input data.\n",
    "\n",
    "   - Manual Weights: Alternatively, you can specify the class weights manually, giving more weight to the minority class based on domain knowledge or specific business requirements."
   ]
  },
  {
   "cell_type": "code",
   "execution_count": 2,
   "metadata": {},
   "outputs": [
    {
     "name": "stdout",
     "output_type": "stream",
     "text": [
      "Classification Report without Class Weights:\n",
      "              precision    recall  f1-score   support\n",
      "\n",
      "           0       0.99      1.00      0.99       226\n",
      "           1       0.95      0.88      0.91        24\n",
      "\n",
      "    accuracy                           0.98       250\n",
      "   macro avg       0.97      0.94      0.95       250\n",
      "weighted avg       0.98      0.98      0.98       250\n",
      "\n",
      "Classification Report with Class Weights:\n",
      "              precision    recall  f1-score   support\n",
      "\n",
      "           0       0.99      0.95      0.97       226\n",
      "           1       0.67      0.92      0.77        24\n",
      "\n",
      "    accuracy                           0.95       250\n",
      "   macro avg       0.83      0.93      0.87       250\n",
      "weighted avg       0.96      0.95      0.95       250\n",
      "\n"
     ]
    }
   ],
   "source": [
    "#balancing class weights to reduce class imbalance\n",
    "from sklearn.linear_model import LogisticRegression\n",
    "from sklearn.model_selection import train_test_split\n",
    "from sklearn.metrics import classification_report\n",
    "from sklearn.datasets import make_classification\n",
    "\n",
    "# \n",
    "import numpy as np\n",
    "import pandas as pd\n",
    "\n",
    "# Create a dataset with class imbalance\n",
    "X, y = make_classification(n_samples=1000, n_features=20, n_informative=2, n_redundant=10,\n",
    "                           n_clusters_per_class=1, weights=[0.9, 0.1], flip_y=0, random_state=42)\n",
    "\n",
    "# Split the data into train and test sets.\n",
    "X_train, X_test, y_train, y_test = train_test_split(X, y, random_state=0)\n",
    "\n",
    "# Fit a model with no class weights\n",
    "logreg = LogisticRegression( random_state=42)\n",
    "model_log = logreg.fit(X_train, y_train)\n",
    "\n",
    "# Predict with no class weights\n",
    "y_pred_no_weights = model_log.predict(X_test)\n",
    "\n",
    "print(\"Classification Report without Class Weights:\")\n",
    "print(classification_report(y_test, y_pred_no_weights))\n",
    "\n",
    "# Train a model with class weights\n",
    "logreg_balanced = LogisticRegression( class_weight='balanced', random_state=42)\n",
    "\n",
    "model_balanced = logreg_balanced.fit(X_train, y_train)\n",
    "\n",
    "# Predict with class weights\n",
    "y_pred_balanced = model_balanced.predict(X_test)\n",
    "\n",
    "print(\"Classification Report with Class Weights:\")\n",
    "print(classification_report(y_test, y_pred_balanced))\n",
    "\n"
   ]
  },
  {
   "cell_type": "markdown",
   "metadata": {},
   "source": [
    "### Interpreting Results\n",
    "  1. Without Class Weights:\n",
    "        You might notice high accuracy but poor recall (sensitivity) for the minority class (Class 1). This means that the model is not identifying many true positives for Class 1 because it is biased toward predicting the majority class (Class 0).\n",
    "  2. With Balanced Class Weights:\n",
    "        The model is more likely to correctly identify instances of the minority class (Class 1), resulting in better recall for Class 1. The precision for Class 0 might decrease slightly because the model is now penalized more for misclassifying the minority class, leading to a better balance between the classes.\n",
    "\n"
   ]
  },
  {
   "cell_type": "markdown",
   "metadata": {},
   "source": [
    "- This method is particularly useful when the cost of missing true positives (false negatives) is high, as in medical diagnoses or fraud detection."
   ]
  },
  {
   "cell_type": "markdown",
   "metadata": {},
   "source": [
    "2. Address class imbalance by \n",
    "- **Oversampling and Undersampling**: oversampling the minority class or undersampling the majority class can help by producing a synthetic dataset that the learning algorithm is trained on\n",
    "- Undersampling can only be used when you have a truly massive dataset and can afford to lose data points. However, even with very large datasets, you are losing potentially useful data. Oversampling can run into the issue of overfitting to certain characteristics of certain data points because there will be exact replicas of data points."
   ]
  },
  {
   "cell_type": "markdown",
   "metadata": {},
   "source": [
    "3. More advanced technique for addressing class imbalance is :\n",
    "- **SMOTE - Synthetic Minority Oversampling**: rather then simply oversampling the minority class with replacement (which simply adds duplicate cases to the dataset), the algorithm generates new sample data by creating 'synthetic' examples that are combinations of the closest minority class cases. "
   ]
  },
  {
   "cell_type": "code",
   "execution_count": null,
   "metadata": {},
   "outputs": [],
   "source": [
    "from imblearn.over_sampling import SMOTE\n",
    "\n",
    "# Previous original class distribution\n",
    "print('Original class distribution: \\n')\n",
    "print(y.value_counts())\n",
    "smote = SMOTE(random_state= 42, sampling_strategy=0.28)\n",
    "X_train_resampled, y_train_resampled = smote.fit_resample(X_train, y_train) \n",
    "# Preview synthetic sample class distribution\n",
    "print('-----------------------------------------')\n",
    "print('Synthetic sample class distribution: \\n')\n",
    "print(pd.Series(y_train_resampled).value_counts()) \n",
    "\n",
    "\"\"\"\n",
    "oUTPUT\n",
    "Original class distribution: \n",
    "\n",
    "0    99773\n",
    "1      227\n",
    "Name: is_attributed, dtype: int64\n",
    "-----------------------------------------\n",
    "Synthetic sample class distribution: \n",
    "\n",
    "1    74841\n",
    "0    74841\n",
    "Name: is_attributed, dtype: int64\n",
    "\n",
    "\"\"\""
   ]
  },
  {
   "cell_type": "markdown",
   "metadata": {},
   "source": [
    "- Check for class imbalance while previewing the data\n",
    "column.value_counts()"
   ]
  },
  {
   "cell_type": "markdown",
   "metadata": {},
   "source": [
    "### Decision Trees"
   ]
  },
  {
   "cell_type": "code",
   "execution_count": null,
   "metadata": {},
   "outputs": [],
   "source": [
    "#decision tree- a decision tree is a tree like model that makes decisions based on the features of the data. It is a supervised learning algorithm that can be used for both classification and regression problems.\n",
    "#decision trees are easy to understand and interpret. They are also non-parametric models which means they do not make any assumptions about the data. They can handle both numerical and categorical data.\n",
    "#decision trees are prone to overfitting. This is because they can keep splitting the data until each leaf node has only one data point. This can be prevented by pruning the tree or using ensemble methods like random forests.\n",
    "#decision trees are also sensitive to the data. A small change in the data can lead to a completely different tree. This can be prevented by using ensemble methods like random forests.    \n",
    "from sklearn.tree import DecisionTreeClassifier\n",
    "from sklearn.model_selection import train_test_split\n",
    "from sklearn.metrics import classification_report, confusion_matrix\n",
    "import pandas as pd\n",
    "import numpy as np\n",
    "\n",
    "# Load the data\n",
    "df = pd.read_csv('heart.csv')\n",
    "\n",
    "# Define appropriate X and y\n",
    "y = df['target']\n",
    "X = df.drop(columns='target', axis=1)\n",
    "\n",
    "# train-test split\n",
    "X_train, X_test, y_train, y_test = train_test_split(X, y, random_state=0, stratify=y)\n",
    "\n",
    "#Normalize the data\n",
    "X_train = X_train.apply(lambda x : (x - x.min()) /(x.max() - x.min()),axis=0)\n",
    "X_test = X_test.apply(lambda x : (x - x.min()) /(x.max() - x.min()),axis=0)\n",
    "\n",
    "# Fit a model\n",
    "clf = DecisionTreeClassifier(random_state=0)\n",
    "clf.fit(X_train, y_train)\n",
    "\n",
    "# Predict\n",
    "y_hat_test = clf.predict(X_test)\n",
    "\n",
    "# Data preview\n",
    "print(\"\")\n",
    "df.head()\n"
   ]
  },
  {
   "cell_type": "markdown",
   "metadata": {},
   "source": []
  }
 ],
 "metadata": {
  "kernelspec": {
   "display_name": "chika",
   "language": "python",
   "name": "python3"
  },
  "language_info": {
   "codemirror_mode": {
    "name": "ipython",
    "version": 3
   },
   "file_extension": ".py",
   "mimetype": "text/x-python",
   "name": "python",
   "nbconvert_exporter": "python",
   "pygments_lexer": "ipython3",
   "version": "3.9.19"
  }
 },
 "nbformat": 4,
 "nbformat_minor": 2
}
