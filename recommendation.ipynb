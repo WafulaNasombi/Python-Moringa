{
 "cells": [
  {
   "cell_type": "markdown",
   "metadata": {},
   "source": [
    "# Recommendation Systems \n",
    "- uses the matrix factorization.\n",
    "- Involves the use of Singular Value Decomposition(SVD) and Alternating Least Squares.(ALS)\n",
    "- Implementing the recommendation using **surprise**library to code up different implementations of collaborative filtering recommendation systems."
   ]
  },
  {
   "cell_type": "code",
   "execution_count": null,
   "metadata": {},
   "outputs": [],
   "source": []
  }
 ],
 "metadata": {
  "language_info": {
   "name": "python"
  }
 },
 "nbformat": 4,
 "nbformat_minor": 2
}
