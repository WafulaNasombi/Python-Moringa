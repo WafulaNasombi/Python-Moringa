{
 "cells": [
  {
   "cell_type": "markdown",
   "metadata": {},
   "source": [
    "# 1 sample z test \n",
    "- Use to compare sample mean with the population mean. Determines if the sample mean is significantly different from the population  mean.\n",
    "- The population standard deviation  is known\n",
    "- The sample size n > 30\n",
    "z score = sample mean($\\bar{x}$) - pop mean($\\mu$)/pop std($\\sigma$)\n",
    "     * calculate the z score, then depending on how far the z score is from the mean, if above 3 zscores we reject the nulll hypothesis"
   ]
  },
  {
   "cell_type": "code",
   "execution_count": null,
   "metadata": {},
   "outputs": [],
   "source": [
    "# Process\n",
    "\"\"\"\n",
    "1. Write the null and alternative hypotheses you would use to test this claim.\n",
    "2. Set the significance level alpha to 0.05.\n",
    "3.  Calculate the z score statistic using the formula z = (x - μ) / (σ/sqrt(n)\n",
    "5. Calculate the p value using the z score. or using statsmodels.stats.weightstats.ztest\n",
    "6. Compare the p value to the significance level alpha.\n",
    "\"\"\"\n",
    "\n",
    "import numpy as np\n",
    "import pandas as pd\n",
    "import scipy.stats as stats\n",
    "import statsmodels.api as sm    \n",
    "import matplotlib.pyplot as plt\n",
    "import statsmodels.stats.weightstats as ws\n",
    "\n",
    "#1.write the null and alternate hypothesis\n",
    "#H0: The average weight of the population is 100\n",
    "#H1: The average weight of the population is not 100\n",
    "\n",
    "#2. set the significance level alpha to 0.05\n",
    "alpha = 0.05\n",
    "\n",
    "#3. Calculate the z score statistic using the formula z = (x - μ) / (σ/sqrt(n)\n",
    "z = (110 - 100) / (15/np.sqrt(36))\n",
    "print(\"Z score is: \", z)\n",
    "\n",
    "#4. Calculate the p value using the z score. or using statsmodels.stats.weightstats.ztest\n",
    "p = 2 * (1 - stats.norm.cdf(z))# 2 * (1 - stats.norm.cdf(z)) is used for two-tailed test. Stats.norm.cdf(z) gives the area under the curve to the left of z.\n",
    "#we use cdf instead of pdf because we are calculating the area under the curve. pdf gives the value of the curve at a particular point.\n",
    "\n",
    "#5. Compare the p value to the significance level alpha.\n",
    "if p < alpha:\n",
    "    print(\"Reject the null hypothesis\")\n",
    "else:\n",
    "    print(\"Fail to reject the null hypothesis\")\n",
    "\n",
    "#once we have the z score of a value we can also get the p value using the stats.norm.cdf\n",
    "p_value = stats.norm.cdf(z) #this gives the probability of getting a value less than z\n",
    "p_value = 1 - stats.norm.cdf(z) #this gives the probability of getting a value greater than z\n",
    "p_value = 2 * (1 - stats.norm.cdf(z)) #this gives the probability of getting a value greater than z or less than -z\n",
    "\n",
    "\n",
    "#method 2 using statsmodels.stats.weightstats.ztest\n",
    "data = np.random.normal(loc=110, scale=15, size= 36) #generate random numbers with a mean of 110 and standard deviation of 15 and 36 samples\n",
    "\n",
    "#z statistic and p value\n",
    "z_stat, p_val = ws.ztest(data, value=100) #data is the sample data, value is the population mean\n",
    "print(\"Z score is: \", z_stat)\n",
    "print(\"P value is: \", p_val)\n",
    "or \n",
    "\n",
    "#to get the confidence intervals   \n",
    "conf_int = ws.zconfint(data)\n",
    "print(\"Confidence interval is: \", conf_int)\n",
    "\n",
    "or #USING stats.norm.ppf to get the confidence intervals\n",
    "lower_bound = stats.norm.ppf(alpha/2, loc=110, scale=15/np.sqrt(36))\n",
    "upper_bound = stats.norm.ppf(1-alpha/2, loc=110, scale=15/np.sqrt(36))\n",
    "\n",
    "or #calculate the z critical value, then get the se then get the confidence intervals\n",
    "alpha = 1 - confidence_level\n",
    "z_critical = stats.norm.ppf(1 - alpha / 2)\n",
    "\n",
    "# Calculate standard error of the mean (SEM)\n",
    "sem = sample_std / np.sqrt(n)\n",
    "\n",
    "# Calculate margin of error\n",
    "margin_of_error = z_critical * sem\n",
    "\n",
    "# Calculate confidence interval\n",
    "conf_low = sample_mean - margin_of_error\n",
    "conf_high = sample_mean + margin_of_error\n",
    "\n",
    "conf_low, conf_high"
   ]
  },
  {
   "cell_type": "markdown",
   "metadata": {},
   "source": [
    "# 1 sample t test\n",
    "- When comparing the sample mean to a known population mean.\n",
    "- The population standard deviation is unknown.\n",
    "- The sample size is small (typically n<30).\n"
   ]
  },
  {
   "cell_type": "code",
   "execution_count": null,
   "metadata": {},
   "outputs": [],
   "source": [
    "# write the null and alternate hypothesis\n",
    "#H0: The average weight of the population is 100\n",
    "#H1: The average weight of the population is not 100\n",
    "\n",
    "#2. Set the significance level\n",
    "alpha = 0.05\n",
    "\n",
    "#3. calculate the t statistic\n",
    "t_stat = (110 - 100) / (15/np.sqrt(36)) #t = (x - μ) / (σ/sqrt(n)). sample mean is 110, population mean is 100, standard deviation is 15 and sample size is 36\n",
    "\n",
    "#4. get the p value\n",
    "p = 2 * (1 - stats.t.cdf(t_stat, df=35)) # df is the degrees of freedom which is n-1. n is the sample size\n",
    "\n",
    "#method 2 using scipy.stats.ttest_1samp\n",
    "import scipy.stats as stats\n",
    "t_stat, p_val = stats.ttest_1samp(a= data, popmean=100, alternative= 'two-sided') #a is the sample data, popmean is the population mean\n",
    "\n",
    "\n"
   ]
  },
  {
   "cell_type": "markdown",
   "metadata": {},
   "source": [
    "## To get the confidence interval \n",
    "- Get the significance  level($\\alpha$) = 1- confidence level\n",
    "- Get the se = pop std dev/ sqrt(sample size n)\n",
    "- Get the t critical value = stats.t.ppf(1 - alpha/2, df= n- 1)\n",
    "- Margin of error = t_critical * standard error(se)\n",
    "- Confidence interval  = sample_mean - margin_of_error, sample_mean + margin_of_error"
   ]
  },
  {
   "cell_type": "code",
   "execution_count": null,
   "metadata": {},
   "outputs": [],
   "source": [
    "#to get the confidence interval. Confidence interval is the range of values within which the population parameter is likely to fall.\n",
    "#5. get the confidence interval\n",
    "se = 15/np.sqrt(36) #standard error\n",
    "#confidence level = 1 - alpha. For 95% confidence level, alpha is 0.05. So, confidence level is 0.95\n",
    "confidence_level = 0.95\n",
    "#critical value\n",
    "t_critical = stats.t.ppf(1 - alpha/2, df=35) #ppf is the percent point function. It gives the critical value for the t-distribution\n",
    "#margin of error\n",
    "margin_of_error = t_critical * se\n",
    "#confidence interval = sample_mean - margin_of_error, sample_mean + margin_of_error\n",
    "confidence_interval = (110 - margin_of_error, 110 + margin_of_error)\n"
   ]
  },
  {
   "cell_type": "markdown",
   "metadata": {},
   "source": []
  },
  {
   "cell_type": "markdown",
   "metadata": {},
   "source": [
    "# 2 sample ttest- Independent samples\n",
    "- Comparing the means of two independent groups. Determines if there is a significant difference between the means of two independent groups.\n",
    "- the groups are not related.\n",
    "\n",
    "* Assumptions:\n",
    "   - Normality: The data in each group should be approximately normally distributed. This is especially important for small sample sizes.\n",
    "   - Independence: The observations in each group should be independent of each other.\n",
    "   - Homogeneity of variances (Homoscedasticity): The variances of the two groups should be approximately equal."
   ]
  },
  {
   "cell_type": "code",
   "execution_count": null,
   "metadata": {},
   "outputs": [],
   "source": [
    "#calculate the 2 sample t test\n",
    "#1. write the null and alternate hypothesis\n",
    "#H0: The average weight of the population is the same for both groups\n",
    "#H1: The average weight of the population is different for the two groups\n",
    "\n",
    "#2. set the significance level\n",
    "alpha = 0.05\n",
    "\n",
    "#3. calculate the t statistic\n",
    "#Class A: Xˉ1​=85, s1​=10, n1​=30\n",
    "#Class B: Xˉ2​=80, s2​=12, n2​=35\n",
    "\n",
    "#t_stat = difference_in_means/ pooled_standard_error\n",
    "#pooled_standard_error = std1/√n1 + std2/√n2 or sqrt((s1**2/n1) + (s2**2/n2))\n",
    "# difference_in_means = mean1 - mean2\n",
    "t_stat = (85 - 80) / np.sqrt((10**2/30) + (12**2/35))\n",
    "\n",
    "# degree of freedom. df= n1 + n2 - 2\n",
    "#4. get the p value. We want the area under the curve for both tails\n",
    "p = 2 * (1 - stats.t.cdf(t_stat, df= 63)) # it is 1 - cdf because we want the area under the curve to the right of the t_stat then multiply by 2\n",
    "#because it is a two-tailed test\n",
    "\n",
    "#method 2 using scipy.stats.ttest_ind. Assumes that the  two samples have equal variances.\n",
    "import scipy.stats as stats\n",
    "# Sample data\n",
    "class_A_scores = [85, 78, 90, 88, 76, 93, 85, 79, 91, 82, 87, 84, 80, 86, 89, 83, 77, 88, 92, 84, 81, 86, 79, 87, 85, 82, 90, 88, 78, 85]\n",
    "class_B_scores = [80, 75, 78, 85, 76, 89, 84, 79, 82, 77, 81, 80, 86, 83, 88, 82, 79, 75, 87, 80, 78, 82, 76, 81, 83, 80, 84, 78, 85, 79, 77, 81, 80, 84, 86]\n",
    "\n",
    "# Perform the 2-sample independent t-test (equal variances assumed)\n",
    "t_statistic, p_value = stats.ttest_ind(class_A_scores, class_B_scores)#if you assume unequaal variance you set equal_var=False\n",
    "\n",
    "#t_statistic, p_value = stats.ttest_ind(class_A_scores, class_B_scores, equal_var=False)\n",
    "\n",
    "\n",
    "\n"
   ]
  },
  {
   "cell_type": "markdown",
   "metadata": {},
   "source": [
    "## Checking Assumptions:\n",
    "\n",
    "- Before performing the t-test, it's good practice to check the assumptions:\n",
    "\n",
    "    - Normality: Use visual inspection (e.g., Q-Q plots) or statistical tests (e.g., Shapiro-Wilk test) to assess normality.\n",
    "    - Homogeneity of Variances: Use tests like Levene's test to assess the equality of variances."
   ]
  },
  {
   "cell_type": "markdown",
   "metadata": {},
   "source": [
    "### Normality of the distribution  - QQ plot or Shapiro test\n"
   ]
  },
  {
   "cell_type": "code",
   "execution_count": null,
   "metadata": {},
   "outputs": [],
   "source": [
    "import matplotlib.pyplot as plt\n",
    "import seaborn as sns\n",
    "from scipy.stats import shapiro\n",
    "\n",
    "# Q-Q plot for Class A\n",
    "sns.histplot(class_A_scores, kde=True)\n",
    "plt.title('Histogram of Class A Scores')\n",
    "plt.show()\n",
    "\n",
    "# Q-Q plot for Class B\n",
    "sns.histplot(class_B_scores, kde=True)\n",
    "plt.title('Histogram of Class B Scores')\n",
    "plt.show()\n",
    "\n",
    "# Shapiro-Wilk test for normality\n",
    "shapiro_A = shapiro(class_A_scores)\n",
    "shapiro_B = shapiro(class_B_scores)\n",
    "print(f\"Shapiro-Wilk test for Class A: {shapiro_A}\")\n",
    "print(f\"Shapiro-Wilk test for Class B: {shapiro_B}\")"
   ]
  },
  {
   "cell_type": "markdown",
   "metadata": {},
   "source": [
    "### Homogenity of variances - Use Levene test from scipy.stat import Levene"
   ]
  },
  {
   "cell_type": "code",
   "execution_count": null,
   "metadata": {},
   "outputs": [],
   "source": [
    "from scipy.stats import levene\n",
    "\n",
    "# Levene's test for equality of variances\n",
    "levene_test = levene(class_A_scores, class_B_scores)\n",
    "print(f\"Levene's test: {levene_test}\")"
   ]
  },
  {
   "cell_type": "markdown",
   "metadata": {},
   "source": [
    "# Paired t-test- Determines if there is a significant difference between the means of two related groups.\n",
    "- Compare means of two related groups\n",
    "- The two groups are paired or matched in some way (e.g., pre-test and post-test on the same subjects).\n",
    "\n",
    "* Assumptions: \n",
    "    1. Paired Observations: Ensure the data consists of matched pairs (e.g., the same individuals measured twice).\n",
    "    2. Continuous Data: Check that the data is continuous and not categorical.\n",
    "    3. Random Sampling:  Verify that the sample was randomly selected.\n",
    "\n",
    "    4. Normality of Differences:Use a normality test (e.g., Shapiro-Wilk test) or graphical methods (e.g., Q-Q plot) to assess the normality of the differences.\n",
    "     - For small sample sizes (n<30n<30), normality is more critical. For larger sample sizes, the t-test is robust to violations of normality due to the Central Limit Theorem.\n",
    "\n",
    "    5. Independence within Pairs: Ensure that the differences within each pair are independent."
   ]
  },
  {
   "cell_type": "code",
   "execution_count": 1,
   "metadata": {},
   "outputs": [
    {
     "name": "stderr",
     "output_type": "stream",
     "text": [
      "C:\\Users\\ADMIN\\AppData\\Local\\Temp\\ipykernel_11296\\1130485945.py:35: RuntimeWarning: divide by zero encountered in scalar divide\n",
      "  t_stat = mean_diff / se_diff\n",
      "c:\\Users\\ADMIN\\anaconda3\\envs\\chika\\lib\\site-packages\\scipy\\stats\\_axis_nan_policy.py:531: RuntimeWarning: Precision loss occurred in moment calculation due to catastrophic cancellation. This occurs when the data are nearly identical. Results may be unreliable.\n",
      "  res = hypotest_fun_out(*samples, **kwds)\n"
     ]
    }
   ],
   "source": [
    "\"\"\"\n",
    "Steps:\n",
    "1. Create a new column with results of the difference between after and before the treatment.\n",
    "2. Calculate the mean difference-  mean diff = sum of differences / number of differences\n",
    "3. Calculate the standard deviation of the differences = sqrt(((sum of (each difference - mean diff))**2) / (n-1))\n",
    "4. Calculate the standard error of the differences = standard deviation of differences / sqrt(n)\n",
    "5. Calculate the t statistic = mean diff / standard error of differences\n",
    "6. Get the p value using the t statistic\n",
    "\"\"\"\n",
    "\n",
    "import numpy as np\n",
    "import pandas as pd\n",
    "import scipy.stats as stats\n",
    "import matplotlib.pyplot as plt\n",
    "import seaborn as sns\n",
    "\n",
    "#weight before treatment\n",
    "before = [100, 105, 95, 110, 90, 85, 105, 95, 100, 110]\n",
    "#weight after treatment\n",
    "after = [95, 100, 90, 105, 85, 80, 100, 90, 95, 105]\n",
    "\n",
    "#1. Create a new column with results of the difference between after and before the treatment.\n",
    "difference = [after - before for after, before in zip(after,before)]\n",
    "\n",
    "#2. Calculate the mean difference\n",
    "mean_diff = np.mean(difference)\n",
    "\n",
    "#3. Calculate the standard deviation of the differences\n",
    "std_diff = np.sqrt((np.sum([(diff - mean_diff)**2 for diff in difference]) / (len(difference) - 1)))\n",
    "\n",
    "#4. Calculate the standard error of the differences\n",
    "se_diff = std_diff / np.sqrt(len(difference))\n",
    "\n",
    "#5. Calculate the t statistic\n",
    "t_stat = mean_diff / se_diff\n",
    "\n",
    "#6. Get the p value using the t statistic\n",
    "p = 2 * (1 - stats.t.cdf(t_stat, df= len(difference) - 1)) #multiply by 2 for two-tailed test\n",
    "\n",
    "#2.method 2 using scipy.stats.ttest_rel\n",
    "t_stat, p_val = stats.ttest_rel(a= after, b= before, alternative= 'two-sided')\n"
   ]
  },
  {
   "cell_type": "markdown",
   "metadata": {},
   "source": [
    "## normality \n",
    " - The Shapiro-Wilk test checks for normality of the differences.\n",
    " - The Q-Q plot visually assesses the normality of the differences.\n",
    " - The histogram provides another visual check for normality."
   ]
  },
  {
   "cell_type": "code",
   "execution_count": 2,
   "metadata": {},
   "outputs": [
    {
     "name": "stdout",
     "output_type": "stream",
     "text": [
      "Shapiro-Wilk Test p-value: 0.011389750804650416\n"
     ]
    },
    {
     "data": {
      "image/png": "[encoded data removed]",
      "text/plain": [
       "<Figure size 800x600 with 1 Axes>"
      ]
     },
     "metadata": {},
     "output_type": "display_data"
    },
    {
     "data": {
      "image/png": "[encoded data removed]",
      "text/plain": [
       "<Figure size 800x600 with 1 Axes>"
      ]
     },
     "metadata": {},
     "output_type": "display_data"
    }
   ],
   "source": [
    "import numpy as np\n",
    "import pandas as pd\n",
    "from scipy import stats\n",
    "import matplotlib.pyplot as plt\n",
    "import seaborn as sns\n",
    "\n",
    "# Sample data\n",
    "before = np.array([85, 78, 92, 70, 88, 75, 80, 69, 77, 84])\n",
    "after = np.array([80, 75, 89, 68, 84, 73, 77, 67, 75, 82])\n",
    "\n",
    "# Calculate differences\n",
    "differences = before - after\n",
    "\n",
    "# Check normality of differences\n",
    "shapiro_test = stats.shapiro(differences)\n",
    "print(f'Shapiro-Wilk Test p-value: {shapiro_test.pvalue}')\n",
    "\n",
    "# Plot Q-Q plot\n",
    "plt.figure(figsize=(8, 6))\n",
    "stats.probplot(differences, dist=\"norm\", plot=plt)\n",
    "plt.title('Q-Q Plot of Differences')\n",
    "plt.show()\n",
    "\n",
    "# Plot histogram of differences\n",
    "plt.figure(figsize=(8, 6))\n",
    "sns.histplot(differences, kde=True)\n",
    "plt.title('Histogram of Differences')\n",
    "plt.xlabel('Difference')\n",
    "plt.ylabel('Frequency')\n",
    "plt.show()\n"
   ]
  },
  {
   "cell_type": "markdown",
   "metadata": {},
   "source": []
  },
  {
   "cell_type": "markdown",
   "metadata": {},
   "source": [
    "# effect size \n",
    "- small effect Cohen d = 0.2 \n",
    "- Medium effect Cohen d = 0.5 \n",
    "- large effect cohen d = 0.8"
   ]
  },
  {
   "cell_type": "code",
   "execution_count": null,
   "metadata": {},
   "outputs": [],
   "source": [
    "# cohen's d method\n",
    "#define a function that takes in two samples, calculates their means, length of the two samples, pooled variance and returns the cohen's d value\n",
    "def cohen_d(group1, group2):\n",
    "    #calculate the means of the groups\n",
    "    mean1 = group1.mean()\n",
    "    mean2 = group2.mean()\n",
    "\n",
    "    #calculate the lengths of the two groups\n",
    "    n1, n2 = len(group1), len(group2)\n",
    "\n",
    "    #get the variance of the two groups\n",
    "    group1_var = group1.var()\n",
    "    group2_var = group2.var()\n",
    "\n",
    "    #Calculate the pooled variance\n",
    "    pooled_variance = (n1 * group1_var + n2 *group2_var)/(n1+ n2) \n",
    "\n",
    "    #calculate the effect size\n",
    "    d = (mean1- mean2)/np.sqrt(pooled_variance)"
   ]
  },
  {
   "cell_type": "markdown",
   "metadata": {},
   "source": [
    "# Power\n",
    "- Type I Error (α): The probability of rejecting the null hypothesis when it is true (false positive).\n",
    "- Type II Error (β): The probability of failing to reject the null hypothesis when it is false (false negative).\n",
    "- Power (1 - β): The probability of correctly rejecting a false null hypothesis"
   ]
  },
  {
   "cell_type": "markdown",
   "metadata": {},
   "source": [
    "* Factors affecting power\n",
    "1. Effect size( calculate use cohen's d)- The higher the effect the higher the power.\n",
    "2. significance level -  $\\alpha$ - the higher the significance level the higher the power\n",
    "3. sample size - Larger sample sizes provide more information and increase power.\n",
    "4. Variability - lower variability in data increases the power.\n",
    "5. One tailed test - has more power than a two tailed test."
   ]
  },
  {
   "cell_type": "code",
   "execution_count": null,
   "metadata": {},
   "outputs": [],
   "source": [
    "\"\"\"\n",
    " Calculating power\n",
    "- You need:\n",
    "     1. Sample size(nobs)- no of observations, eg nobs = np.array(range(5,1500))\n",
    "     2. Effect size\n",
    "     3. significance level - alpha \n",
    "     4. df= degree of freedom n-1\n",
    "     Formula : statsmodels.stats.power.TTestPower.power\n",
    "      TTestPower.power(effect_size, nobs, alpha, df=None, alternative='two-sided')\n",
    "\"\"\"\n",
    "from statsmodels.stats.power import TTestIndPower, TTestPower\n",
    "#form normal distribution -> statsmodels.stats.power.NormalIndPower\n",
    "\n",
    "#define the power analysis object\n",
    "power_analysis = TTestIndPower() #if comparing two groups, independent T-test we use ratio \n",
    "\"\"\"\n",
    "Suppose you are designing a study to compare the means of two groups using an independent t-test.\n",
    " If you expect one group to have twice as many participants as the other, you would set ratio=2.0.\n",
    "\"\"\"\n",
    "\n",
    "#calculate the power\n",
    "power  = power_analysis.solve_power(effect_size=0.5, nobs1=100, alpha=0.5, ratio=1.0, alternative_='two-sided')\n",
    "\n",
    "print(power)\n",
    "\n",
    "\n",
    "#calculate the sample size\n",
    "sample_size = power_analysis.solve_power(effect_size=0.5, alpha=0.5,ratio=1.0, power=0.8, alternative='two-sided')\n",
    "\n",
    "#calculate the effect size\n",
    "effect_size = power_analysis.solve_power(nobs1=100, alpha=0.5, ratio=1.0, power=0.8, alternative='two-sided')\n"
   ]
  },
  {
   "cell_type": "markdown",
   "metadata": {},
   "source": [
    "# Linear regression - relationship\n",
    "- Used to compare relationship  between two  continuous random variables.\n",
    "- To determine strength and direction of the relationship.\n",
    " - X the independent variable\n",
    " - Y is the dependent variable\n",
    " - both $\\beta$ and $\\beta$ 1(x) are MODEL PARAMETERs\n",
    " - \"fitting\" a model means finding the best value for these parameters. \n",
    " * LINE OF BEST FIT/REGRESSION LINE-> this is basically a line that minimizes the sum of squared errors between y values and values\n",
    "on the line with corresponding x values.\n",
    "\n",
    " 1. Set your null hypothesis and alternative hypothesis for both intercept and slope\n",
    "    - intercept H0: b0 = 0\n",
    "    -           H1: b0 != 0 \n",
    "    SLOPE H0: b1 = 0 \n",
    "    -     H1: b1 != 0 \n",
    "    - ALPHA = 0.05\n",
    " 2. set up your x and y values from the dataframe\n",
    " 3. If you using statsmodels.api as sm, change the x value to X-> reshape it to a (-1,1) 2D array.\n",
    " 4. change X to x-> by adding a constant using sm.add_constant(X)\n",
    " 5. Fit your model ->model= sm.OLS(y,x).fit()\n",
    " 6. get summary of the model. Confirm if f_pvalue is < or > alpha 0.05. Use it to reject or fail to reject a null hypothesis.\n",
    " \n",
    "\n"
   ]
  },
  {
   "cell_type": "markdown",
   "metadata": {},
   "source": [
    "* can do the above to compare different models and compare f_pvalue->to see if model is statitistically significant thus reject null hypothesis.\n",
    "- compare r^2(coefficient of determination) -> to see the model can explain which % variation of the y values from the predicted values. If value is closer to 1 the better the model.\n",
    "- compare each coefficient/parameter(m and c ) and see how it compares with the x value.eg if x is 0 y increases 5 times.->model.params, model.pvalues\n",
    "\n",
    "After:\n",
    "1. Get predicted values -> predictions = model.predict(x)\n",
    "2. PLot the model and fit the regression line. PLotting the model-> sns.scatterplot\n",
    " - regression line->plt.plot(X,predictions, color=, label='Regression line')\n",
    "\n",
    " 3. Get the residuals. y - predictions\n",
    " 4. Plot the residuals ->sns.residplot(x=predictions, y=residuals,lowess= True,color='green', scatter_kws={'alpha': 0.5}). Residuals should have no pattern at all."
   ]
  },
  {
   "cell_type": "markdown",
   "metadata": {},
   "source": [
    "* Assumptions:  LINE\n",
    "1. LINEARITY->Relationship between dependent and independent variable should be linear\n",
    "- Use a simple scatter plot to test it.Plot x against y.\n",
    "- or use rainbow test.from statsmodels.stats.diagnostic import linear_rainbow\n",
    "     -  linear_rainbow(linear_results).linear_rainbow is a function that takes an OLS results object and returns a test statistic and a p-value.\n",
    "     - (0.8888211560283957, 0.7634250654991752). p value > than 0.05 so we fail to reject the null hypothesis and can consider the relationship to be linear\n",
    "     -linear_rainbow(non_linear_results)-> (1.907684636312535, 4.178078921300679e-06). This is much lower than the standard alpha of 0.05, so we reject the null hypothesis and do not consider the relationship to be linear\n",
    "\n",
    "\n"
   ]
  },
  {
   "cell_type": "markdown",
   "metadata": {},
   "source": [
    "2. iNDEPENDENCE->to ensure the values can be used to predict each other. Independence between the residuals and the observed values or between \n",
    "the residuals and the predicted values.\n",
    "- Can use the scipy.stats or numpy to test for correlation. \n",
    "- import numpy as np\n",
    "- from scipy.stat import pearsonr\n",
    "\n",
    "-# Compute the correlation matrix\n",
    "correlation_matrix = np.corrcoef(data['TV'], data['Radio'])\n",
    "\n",
    "-# Extract the correlation coefficient\n",
    "correlation_coefficient = correlation_matrix[0, 1]\n",
    "\n",
    "print(\"Correlation coefficient between TV and Radio:\", correlation_coefficient) . If value >0.8 very high correlation. Change in one leads to change in the other.\n",
    "\n",
    "or\n",
    "-correlation_coefficient, p_value = pearsonr(data['TV'], data['Radio'])\n",
    "\n",
    "print(\"Pearson correlation coefficient between TV and Radio:\", correlation_coefficient)\n",
    "print(\"P-value:\", p_value)\n"
   ]
  },
  {
   "cell_type": "markdown",
   "metadata": {},
   "source": [
    "3. NORMALITY. the residuals- errors should be normally distributed. There should be no pattern. if the patterns are all over then there is a normal distribution.Use scatter plot of predictions and residuals.\n",
    "- use a qq plot of the residuals and jarque bera test\n",
    "     Fit a linear regression model and obtain the residuals.\n",
    "     Create a Q-Q plot to visually inspect the normality of the residuals.\n",
    "     Perform the Jarque-Bera test to statistically test for normality or Shapiro wilk test\n"
   ]
  },
  {
   "cell_type": "code",
   "execution_count": 1,
   "metadata": {},
   "outputs": [
    {
     "data": {
      "text/plain": [
       "<Figure size 1000x600 with 0 Axes>"
      ]
     },
     "metadata": {},
     "output_type": "display_data"
    },
    {
     "data": {
      "image/png": "[encoded data removed]",
      "text/plain": [
       "<Figure size 640x480 with 1 Axes>"
      ]
     },
     "metadata": {},
     "output_type": "display_data"
    },
    {
     "name": "stdout",
     "output_type": "stream",
     "text": [
      "Jarque-Bera test statistic: 2.0316448399729437\n",
      "Jarque-Bera p-value: 0.3621045053573639\n",
      "Residuals appear to be normally distributed (fail to reject the null hypothesis).\n"
     ]
    }
   ],
   "source": [
    "import numpy as np\n",
    "import pandas as pd\n",
    "import matplotlib.pyplot as plt\n",
    "import seaborn as sns\n",
    "from sklearn.linear_model import LinearRegression\n",
    "import statsmodels.api as sm\n",
    "from scipy.stats import jarque_bera\n",
    "\n",
    "# Example data\n",
    "np.random.seed(0)\n",
    "data = pd.DataFrame({\n",
    "    'TV': np.random.uniform(0, 100, 100),\n",
    "    'Sales': np.random.normal(30 + 0.4 * np.random.uniform(0, 100, 100), 10)\n",
    "})\n",
    "\n",
    "# Extracting X (TV) and y (Sales)\n",
    "X = data['TV'].values.reshape(-1, 1)\n",
    "y = data['Sales'].values\n",
    "\n",
    "# Fit a linear regression model\n",
    "model = LinearRegression()\n",
    "model.fit(X, y)\n",
    "\n",
    "# Predictions\n",
    "predictions = model.predict(X)\n",
    "\n",
    "# Residuals\n",
    "residuals = y - predictions\n",
    "\n",
    "# Q-Q plot\n",
    "plt.figure(figsize=(10, 6))\n",
    "sm.qqplot(residuals, line='s')\n",
    "plt.title('Q-Q Plot of Residuals')\n",
    "plt.grid(True)\n",
    "plt.show()\n",
    "\n",
    "# Jarque-Bera test\n",
    "jb_stat, jb_p_value = jarque_bera(residuals)\n",
    "\n",
    "print(\"Jarque-Bera test statistic:\", jb_stat)\n",
    "print(\"Jarque-Bera p-value:\", jb_p_value)\n",
    "\n",
    "# Interpretation\n",
    "if jb_p_value > 0.05:\n",
    "    print(\"Residuals appear to be normally distributed (fail to reject the null hypothesis).\")\n",
    "else:\n",
    "    print(\"Residuals do not appear to be normally distributed (reject the null hypothesis).\")\n",
    "\n"
   ]
  },
  {
   "cell_type": "markdown",
   "metadata": {},
   "source": [
    "4. EQUAL VARIANCE.Homoscedasticity in nature. Scatter plot of the variables form no shape. No pattern detected.\n",
    "- USE BREUSCH PAGAN TEST TO TEST FOR HOMOSCEDASTICITY, OR goldfeldquandt\n"
   ]
  },
  {
   "cell_type": "code",
   "execution_count": null,
   "metadata": {},
   "outputs": [],
   "source": [
    "import numpy as np\n",
    "import pandas as pd\n",
    "from sklearn.linear_model import LinearRegression\n",
    "import statsmodels.api as sm\n",
    "from statsmodels.stats.diagnostic import het_breuschpagan/ het_goldfeldquandt\n",
    "\n",
    "# Example data\n",
    "np.random.seed(0)\n",
    "data = pd.DataFrame({\n",
    "    'TV': np.random.uniform(0, 100, 100),\n",
    "    'Sales': np.random.normal(30 + 0.4 * np.random.uniform(0, 100, 100), 10)\n",
    "})\n",
    "\n",
    "# Extracting X (TV) and y (Sales)\n",
    "X = data['TV'].values.reshape(-1, 1)\n",
    "y = data['Sales'].values\n",
    "\n",
    "# Fit a linear regression model\n",
    "model = LinearRegression()\n",
    "model.fit(X, y)\n",
    "\n",
    "# Use statsmodels to add a constant and fit the OLS model\n",
    "X_with_const = sm.add_constant(X)\n",
    "ols_model = sm.OLS(y, X_with_const).fit()\n",
    "\n",
    "# Perform Breusch-Pagan test\n",
    "bp_test = het_breuschpagan(ols_model.resid, ols_model.model.exog)# ols_Model.resid extracts the residuals and ols_model.model.exog extracts the exogenous variables(INDEPENDENTE VARIABLES)\n",
    "#ENDOGENOUS VARIABLES(DEPENDENT VARIABLES) are the residuals\n",
    "\n",
    "print(\"Breusch-Pagan test statistic:\", bp_test[0])\n",
    "print(\"p-value:\", bp_test[1])\n",
    "print(\"F-statistic:\", bp_test[2])\n",
    "print(\"F-test p-value:\", bp_test[3])\n",
    "\n",
    "# Interpretation\n",
    "if bp_test[1] > 0.05:\n",
    "    print(\"Fail to reject the null hypothesis of homoscedasticity.\")\n",
    "else:\n",
    "    print(\"Reject the null hypothesis of homoscedasticity (evidence of heteroscedasticity).\")"
   ]
  },
  {
   "cell_type": "markdown",
   "metadata": {},
   "source": [
    "## When to Use Linear Regression:- Use a scatter plot to determine if relationship is linear or non-linear\n",
    "- then draw a line between \n",
    "\n",
    "- Linear regression is used when you want to:\n",
    "   1.  Predict an outcome: You have a variable (dependent variable) that you want to predict based on another variable (independent variable).\n",
    "   2.  Understand the relationship: You want to understand how changes in the independent variable are associated with changes in the dependent variable.\n",
    "   3.  Modeling: It's used in modeling scenarios where you assume a linear relationship between variables.\n",
    "   y = $\\beta$ 0 + $\\beta$ 1(x) + e \n",
    "    - e -> is the model loss :\n",
    "           - vertical distance between the individual data points and the line are taken into account to calculate the overall model loss.\n",
    "   - $\\beta$ 0  -> constant \n",
    "   - $\\beta$ 1 -> coefficient/slope of x\n",
    "   - e is the error term. Away from the normal linear regression line.\n",
    "           - # like linear equation:where y = c + mx\n",
    "           - #linear regression equation: y = b0 + b1x \n",
    "           - y = 4 + 3 x #y is the dependent variable, x is the independent variable, 4 is the intercept, 3 is the slope. \n",
    "           - #for every increase of x, y increases 3 times. \n",
    "         - y = 4 + 5 x #steeper slope. For every increase of x, y increases 5 times."
   ]
  },
  {
   "cell_type": "markdown",
   "metadata": {},
   "source": [
    "## Linear regression using least squares method- minimizes the squared error"
   ]
  },
  {
   "cell_type": "code",
   "execution_count": null,
   "metadata": {},
   "outputs": [],
   "source": [
    "\"\"\"\n",
    "Given x and y values- the dependent and independent variables\n",
    "Use box plot or histogram to determine if the data is normally distributed or has outliers\n",
    "- remove outliers: can Bias the estimation of the regression coefficients and reduce the accuracy of the model.\n",
    "     :can Affect the normality assumption of the error term, which is one of the assumptions of linear regression.\n",
    "\n",
    "   they can be removed using the z-score method or the IQR method\n",
    "\n",
    "1. visualize the scatter plot of the data- to see if your variables have a relationship or check their correlation coefficient\n",
    "   from scipy.stats import pearsonr\n",
    "   relationship = pearsonr(x, y) # if value is close to 1, there is a strong positive correlation, if close to -1, there is a strong negative correlation\n",
    "   - if the relationship is strong, you can use linear regression to predict the dependent variable\n",
    "2. fit a linear regression model to the data\n",
    "3. get the slope and intercept of the regression line\n",
    "\"\"\"\n",
    "\n",
    "#1. calculate x, y , x**2, x*y then get their sums  after removing the outliers\n",
    "\n",
    "##2. calculate m which is b1. The slope of the regression line\n",
    "m/b1 = (n *(sum of x*y)) - ((sum of x) * (sum of y)) / (n * (sum of x**2)) - (sum of x)**2\n",
    "\n",
    "##3. calculate b0. The intercept of the regression line\n",
    "b0/c = (sum of y - m * sum of x) / n #since y = b0 + b1*x\n",
    "\n",
    "#4. get the y preicted value from y = mx + c \n",
    "y_predicted = m*x + b0\n",
    "\n",
    "#5. calculate the residuals\n",
    "residuals = y - y_predicted # residuals should be normally distributed and independent.\n",
    "#assumption of the independence of observations.\n",
    "\n",
    "#6. Use sharpiro-wilk test to check for normality\n",
    "shapiro_test = stats.shapiro(residuals)\n",
    "print(f'Sharpiro-Wilk Test p-value: {shapiro_test.pvalue}') #if p value is less than 0.05, residuals are not normally distributed\n",
    "\n",
    "#7. plot the residuals\n",
    "plt.figure(figsize=(8, 6))\n",
    "sns.histplot(residuals, kde=True)\n",
    "plt.title('Histogram of Residuals')\n",
    "plt.xlabel('Residual')\n",
    "plt.ylabel('Frequency')\n",
    "plt.show()\n"
   ]
  },
  {
   "cell_type": "markdown",
   "metadata": {},
   "source": [
    "### so the right formula for least of squares - to get the regression line y = mx + c\n"
   ]
  },
  {
   "cell_type": "code",
   "execution_count": null,
   "metadata": {},
   "outputs": [],
   "source": [
    "df = pd.read_csv('heightWeight.csv')\n",
    "df.plot.scatter(x=\"height\", y=\"weight\")\n",
    "\n",
    "#1. calculate the correlation coefficient\n",
    "rho = np.corrcoef([df['height'], df['weight']])[0, 1] # rho is the correlation coefficient between height and weight. 0 is the row and 1 is the column\n",
    "\n",
    "#2. using least of squares. Calculate the slope.\n",
    "#get the standard deviation of y and x\n",
    "std_y = np.std(df['weight'])\n",
    "std_x = np.std(df['height'])\n",
    "\n",
    "#calculate m - The slope of the regression line\n",
    "m = rho * (std_y/std_x)\n",
    "\n",
    "#calculate c - The intercept of the regression line. y = mx + c/ y= b1x + b0\n",
    "#get the mean of x and y\n",
    "mean_x = np.mean(df['height'])\n",
    "mean_y = np.mean(df['weight'])\n",
    "\n",
    "#calculate c\n",
    "c = mean_y - m * mean_x\n",
    "\n"
   ]
  },
  {
   "cell_type": "markdown",
   "metadata": {},
   "source": [
    "## getting outliers"
   ]
  },
  {
   "cell_type": "code",
   "execution_count": null,
   "metadata": {},
   "outputs": [],
   "source": [
    "# 1. get outliers using z-score\n",
    "#given data\n",
    "import numpy as np\n",
    "import scipy.stats as stats\n",
    "data = [1, 2, 3, 4, 5, 6, 7, 8, 9, 10, 100]\n",
    "#calculate the z-score\n",
    "z_scores = stats.zscore(data)\n",
    "\n",
    "#identify the outliers\n",
    "outliers = [ data[i] for i in range(len(data)) if np.abs(z_scores[i]) > 3]\n",
    "#remove the outliers\n",
    "data_cleaned = [ data[i] for i in range(len(data)) if np.abs(z_scores[i]) <= 3]\n",
    "\n",
    "OR \n",
    "# calculate the z score - when working with normal distribution\n",
    "threshold = 3\n",
    "# empty list to store outliers\n",
    "outliers = []\n",
    "# loop through the data series\n",
    "for x in watts:\n",
    "    z_score = ((x - mean)/std_dev)\n",
    "    if np.abs(z_score) > threshold:\n",
    "        outliers.append(x)\n",
    "    \n",
    "print(outliers)\n",
    "\n",
    "#2. get outliers using IQR\n",
    "#calculate the IQR\n",
    "Q1 = np.percentile(data, 25)\n",
    "Q3 = np.percentile(data, 75)\n",
    "IQR = Q3 - Q1\n",
    "#identify the LOWER and UPPER bounds\n",
    "lower_bound = Q1 - 1.5 * IQR\n",
    "#upper bound\n",
    "upper_bound = Q2 + 1.5 * IQR\n",
    "\n",
    "#identify the outliers\n",
    "outliers = [data[i] for i in range(len(data)) if data[i] < lower_bound or data[i] > upper_bound] #we use range(len(data)) to get the index of the data\n",
    "\n",
    "#remove the outliers\n",
    "cleaned_data = [data[i] for i in range(len(data)) if data[i] >= lower_bound and data[i] <= upper_bound]\n",
    "\n",
    "\n",
    "#3. using box plot\n",
    "from matplotlib.cbook import boxplot_stats\n",
    "\n",
    "stat = boxplot_stats(data)\n",
    "stat   #returns the mean, median, lower and upper quartile, whiskers, fliers and the number of outliers. Anything above the whiskers is an outlier or below.\n",
    "#fliers : Data points that are identified as potential outliers and lie beyond the whiskers of the box plot."
   ]
  },
  {
   "cell_type": "markdown",
   "metadata": {},
   "source": [
    "## using sm(statsmodels.api) - to get the linear regression"
   ]
  },
  {
   "cell_type": "code",
   "execution_count": null,
   "metadata": {},
   "outputs": [],
   "source": [
    "\"\"\"\n",
    "In the examples below we'll be using the Advertising dataset, using TV spending to predict sales.\n",
    "\"\"\"\n",
    "import numpy as np\n",
    "import statsmodels.api as sm\n",
    "import pandas as pd\n",
    "import matplotlib.pyplot as plt\n",
    "from sklearn.metrics import mean_squared_error\n",
    "\n",
    "\n",
    "#1. visualize the scatter plot\n",
    "data = pd.read_csv(\"advertising.csv\", index_col=0)\n",
    "data.plot(x=\"TV\", y=\"sales\", kind=\"scatter\")\n",
    "\n",
    "#2. create the x and y variables\n",
    "X = data[\"TV\"].reshape(-1, 1)# reshape the data to a 2D array as required by the model when working with statsmodels\n",
    "y = data[\"sales\"]\n",
    "\n",
    "#3. add a constant to the independent variable. This is required by the model since if we want the model to return a constant/intercept we need to pass\n",
    "#a column of constant values to the model\n",
    "x = sm.add_constant(X)\n",
    "\n",
    "#4. fit the model\n",
    "model = sm.OLS(y,x).fit()\n",
    "\n",
    "#5. get the summary of the model\n",
    "model.summary() #this gives the summary of the model including the coefficients, p-values, R-squared value, etc.\n",
    "\n",
    "#f_statistic(mean squared error of the model) and f_pvalue(Probability of the F-statistic) are used to test the overall significance of the model.\n",
    "model.fvalue, model.f_pvalue#Our model is statistically significant, with a p-value well below the standard alpha of 0.05. Since there is enough evidence to reject the null hypothesis, we can conclude that the model is useful in predicting sales based on TV advertising.\n",
    "\n",
    "model.rsquared #if 0.95 then our model can explain 95% of the variance in the dependent variable.\n",
    "\n",
    "model.params #returns the coefficients of the model. The first value is the intercept and the second value is the slope of the line.\n",
    "\"\"\"\n",
    "const    -204.483436\n",
    "height      5.539019\n",
    "\n",
    "for a height of 0 the weight is -204.48. For every unit increase in height(increase by 1), the weight increases by 5.54\n",
    "\"\"\"\n",
    "#model.pvalues #returns the p-values of the coefficients(parameters m and c). If the p-value is less than 0.05, the coefficient is statistically significant.\n",
    "model.pvalues \n",
    "\"\"\"\n",
    "const     0.000000e+00\n",
    "height    1.123911e-07\n",
    "\n",
    "The p-value of the intercept is less than 0.05, so it is statistically significant. The p-value of the height is also less than 0.05, so it is statistically significant.\n",
    "\n",
    "\"\"\"\n",
    "#model parameter confidence intervals\n",
    "print(model.conf_int(alpha= 0.05))) #returns the confidence intervals of the coefficients. The first column is the lower bound and the second column is the upper bound.\n",
    "#this is for alpha = 0.05\n",
    "\"\"\"\n",
    "                    0           1           \n",
    "    const   -206.349577  -202.617295\n",
    "    height     5.202498     5.875540\n",
    "\n",
    "The 95% confidence interval for the intercept is between -206.35 and -202.62. The 95% confidence interval for the height is between 5.20 and 5.88.\n",
    "\"\"\"\n",
    " \n",
    "\n",
    "#6. get the predicted values\n",
    "y_predicted = model.predict(x)\n",
    "\n",
    "#7. calculate the residuals\n",
    "residuals = y - y_predicted\n",
    "\n",
    "#8. plot the residuals\n",
    "plt.scatter(x , residuals)\n",
    "plt.axhline(y=0, color='r', linestyle='-')\n",
    "plt.title('Residual Plot')\n",
    "plt.xlabel('Predicted values')\n",
    "plt.ylabel('Residuals')\n",
    "plt.show()\n",
    "\n"
   ]
  },
  {
   "cell_type": "markdown",
   "metadata": {},
   "source": [
    "## using sklearn to calculate the linear regression\n",
    "* first get the predicted y values, get the difference between the actual y values and the predicted values which is residual values then:\n",
    "1.  get the mean absolute error(mae) -> sum of absolute residual values/ n .\n",
    "-  More useful when you have outliers. Outliers don't affect mae as much\n",
    "2. mean squared error(mse)/F STATISTIC-> sum of square residual values/n. If value is close to zero, the model is a better model.Used to compare between two or more models which one is a better model. \n",
    "3. root of mean square error (rmse)- square root of mse.\n",
    "- Used when dealing with the same units between independent and dependent variable.\n",
    "4. root mean squared log error(rmsle)- log of rmse. Get the log of every y actual values, log of every predicted values, get their differences, square the differences, get the mean of the squared differences(sum of squared differences/n) then get the square root of the mean.\n",
    "5. r^2 : Indicates the proportion of the variance in dependent variable that is predictable from the independent variable.\n",
    "\n",
    "* Imagine you are predicting house prices based on square footage:\n",
    "\n",
    "    - MSE: Tells you how much your predicted prices deviate from the actual prices on average, in squared units of the price (e.g., dollars squared).\n",
    "    - RMSE: Converts this error back into the original units (e.g., dollars), making it easier to understand how far off your predictions are, on average.\n",
    "    - R2R2: Shows how much of the variability in house prices is explained by the square footage. If R2R2 is 0.8, it means 80% of the variance in house - prices can be explained by their square footage, indicating a good model fit."
   ]
  },
  {
   "cell_type": "code",
   "execution_count": null,
   "metadata": {},
   "outputs": [],
   "source": [
    "#1.use sklearn to fit a linear regression model\n",
    "from sklearn.linear_model import LinearRegression\n",
    "from sklearn.metrics import mean_squared_error, r2_score, mean_absolute_error  \n",
    "\n",
    "\n",
    "#2. establish the x and y values\n",
    "X = data['TV']\n",
    "#3. reshape the x column to a 2d array from a dataframe. It automatically does it for the y column \n",
    "x = np.array(X).reshape(-1, 1) #reshape the column to a 2D array. -1 represents the number of rows, 1 represents the number of columns\n",
    "y  = data['sales']\n",
    "\n",
    "#3. Create a Linear Regression object\n",
    "lin_reg = LinearRegression() # ensure you're passing a 2D array to this function \n",
    "\n",
    "#4. Fit the model. We are fitting the model to the data. To get the best line of fit\n",
    "model = lin_reg.fit(x,y)\n",
    "\n",
    "#results\n",
    "results =  model.summary()\n",
    "\n",
    "#5. Get the predicted values based on y = b0 + b1*x\n",
    "y_predicted = lin_reg.predict(x)\n",
    "\n",
    "#6. evaluate the performance of a linear regression model.\n",
    "mae = mean_absolute_error(y, y_predicted) #sum of absolute residuals/n\n",
    "mse = mean_squared_error(y, y_predicted) #if the value is close to 0, the model is a good model. Sum of squared residuals/n. used to compare performance \n",
    "#different models or to evaluate the effectiveness of a model in predicting the dependent variable.\n",
    "rmse = np.sqrt(mse) # Lower RMSE values indicate a better fit, meaning the model's predictions are closer to the actual values.\n",
    "r2 = r2_score(y, y_predicted)\n",
    "# Alternatively, using the model's score method\n",
    "r2_alternative = lin_reg.score(X, y) # how well the model's predictions match the actual data. The closer to 1, the better the model\n",
    "\n",
    "#6.Get the slope and intercept\n",
    "print(model.coef_, model.intercept_) #slope and intercept\n",
    "\n",
    "\"\"\"\n",
    "Output\n",
    "(array([0.04753664]), 7.032593549127695)\n",
    "\n",
    "\"\"\"\n",
    "# Summary of the model\n",
    "summary = sm.OLS(y, sm.add_constant(x)).fit()\n",
    "\n",
    "#7.get the residuals -> y = b0 + b1*x + e. E is the residuals\n",
    "residuals = np.abs(y - y_predicted) #absolute value of the difference between the actual and predicted values\n",
    "# draw a scatter plot for residual values and frequency\n",
    "plt.scatter(x, y, color=\"blue\", label=\"Actual\")\n",
    "plt.scatter(x, y_predicted, color=\"red\", label=\"Predicted\")\n",
    "plt.xlabel(\"TV\")\n",
    "plt.ylabel(\"Sales\")\n",
    "plt.legend()\n",
    "plt.show()\n",
    "\n",
    "#there should be no pattern between a plot of residuals against real or predicted y values. Values should be all over the place"
   ]
  },
  {
   "cell_type": "markdown",
   "metadata": {},
   "source": [
    "### The summary table provides valuable insights into the regression model’s performance and significance of variables. Key metrics include:\n",
    "\n",
    "    Coefficients: Indicate the estimated impact of each independent variable on the dependent variable.\n",
    "    P-values: Assess the significance of each coefficient. Typically, p-values less than 0.05 are considered statistically significant.\n",
    "    R2R2 and Adj. R2R2: Measure the goodness of fit of the model.COEFFICIENT OF DETERMINATION, which is a measure of how well the regression model predicts the dependent variable\n",
    "    F-statistic: Tests the overall significance of the model."
   ]
  },
  {
   "cell_type": "markdown",
   "metadata": {},
   "source": [
    "## linear regression and t test getting the p values"
   ]
  },
  {
   "cell_type": "code",
   "execution_count": null,
   "metadata": {},
   "outputs": [],
   "source": [
    "results.pvalues\n",
    "\"\"\"\n",
    "Output \n",
    "\n",
    "const    1.406300e-35\n",
    "TV       1.467390e-42\n",
    "  Since they are < than alpha we reject the null hypothesis\n",
    "\"\"\""
   ]
  },
  {
   "cell_type": "markdown",
   "metadata": {},
   "source": [
    "## linear regression and confidence intervals"
   ]
  },
  {
   "cell_type": "code",
   "execution_count": null,
   "metadata": {},
   "outputs": [],
   "source": [
    "print(results.conf_int())\n",
    "\n",
    "\"\"\"\n",
    "Output\n",
    "                    0         1\n",
    "const       6.129719  7.935468\n",
    "TV          0.042231  0.052843\n",
    "\n",
    "The confidence interval for the intercept is [6.129719, 7.935468] and for the slope is [0.042231, 0.052843]\n",
    "\"\"\""
   ]
  },
  {
   "cell_type": "markdown",
   "metadata": {},
   "source": [
    "## correlation - also used to determine the strength and relationship of two variables but difference with linear regression is that it doesn't give the intercept value"
   ]
  },
  {
   "cell_type": "code",
   "execution_count": null,
   "metadata": {},
   "outputs": [],
   "source": [
    "from scipy.stats import pearsonr\n",
    "\n",
    "correlation, p_value = pearsonr(data[\"sales\"], data[\"TV\"])\n",
    "correlation\n",
    "\"\"\"\n",
    "output\n",
    "0.7822244248616061\n",
    "\n",
    "The correlation between TV spending and sales is 0.78. This indicates a strong positive correlation between the two variables.\n",
    " But it does not tell us the change in sales that we might expect for a given change in TV spending, nor does it give us anything to plot.\n",
    "\"\"\""
   ]
  },
  {
   "cell_type": "markdown",
   "metadata": {},
   "source": []
  }
 ],
 "metadata": {
  "kernelspec": {
   "display_name": "chika",
   "language": "python",
   "name": "python3"
  },
  "language_info": {
   "codemirror_mode": {
    "name": "ipython",
    "version": 3
   },
   "file_extension": ".py",
   "mimetype": "text/x-python",
   "name": "python",
   "nbconvert_exporter": "python",
   "pygments_lexer": "ipython3",
   "version": "3.9.19"
  }
 },
 "nbformat": 4,
 "nbformat_minor": 2
}
